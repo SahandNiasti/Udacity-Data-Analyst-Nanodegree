{
 "cells": [
  {
   "cell_type": "markdown",
   "metadata": {},
   "source": [
    "\n",
    "\n",
    "# Project: Medical Appointment No Shows\n",
    "\n",
    "*Author : Sahand Niasti*\n",
    "\n",
    "*April, 2020*\n",
    "\n",
    "\n",
    "![Image](https://www.everseat.com/wp-content/uploads/2015/10/appointment_1500x1000-800x400.png)\n",
    "\n",
    "\n",
    "## Table of Contents\n",
    "<ul>\n",
    "<li><a href=\"#intro\">Introduction</a></li>\n",
    "<li><a href=\"#wrangling\">Data Wrangling</a></li>\n",
    "<li><a href=\"#eda\">Exploratory Data Analysis</a></li>\n",
    "<li><a href=\"#conclusions\">Conclusions</a></li>\n",
    "</ul>"
   ]
  },
  {
   "cell_type": "markdown",
   "metadata": {},
   "source": [
    "<a id='intro'></a>\n",
    "## 1- Introduction\n"
   ]
  },
  {
   "cell_type": "markdown",
   "metadata": {},
   "source": [
    "Many patients all around the world make an appointment, before visiting a doctor. but with all the instrcution they receive, some of them do not show up on the appointment date. missing a scheduled date like this would miss an opportunity for other in-need patients and can cause delays and extra costs for doctors and hospitals. but why a person would have made an appointment does not show up? this is the question we will try to answer here.\n",
    "\n",
    "This dataset collected information from more than 100k medical appointments in Brazil and is focused on the question of whether or not patients show up on their appointment.A number of characteristics about the patient are included in each row.\n",
    "- ‘ScheduledDay’ tells us on what day the patient set up their appointment.\n",
    "- ‘Neighborhood’ indicates the location of the hospital.\n",
    "- ‘Scholarship’ indicates whether or not the patient is enrolled in Brasilian welfare program Bolsa Família.\n",
    "- 'No-show': it says ‘No’ if the patient showed up to their appointment, and ‘Yes’ if they did not show up.\n",
    "\n",
    "The original dataset can be found here: [Link](https://www.kaggle.com/joniarroba/noshowappointments)\n",
    "\n"
   ]
  },
  {
   "cell_type": "markdown",
   "metadata": {},
   "source": [
    "### Importing Dataset"
   ]
  },
  {
   "cell_type": "code",
   "execution_count": 1,
   "metadata": {},
   "outputs": [],
   "source": [
    "import pandas as pd\n",
    "import numpy as np\n",
    "import matplotlib.pyplot as plt\n",
    "import seaborn as sns\n",
    "from sklearn import preprocessing\n",
    "from sklearn.model_selection import train_test_split\n",
    "from sklearn import svm\n",
    "from sklearn.metrics import f1_score\n",
    "from sklearn.metrics import jaccard_similarity_score\n",
    "\n",
    "%matplotlib inline"
   ]
  },
  {
   "cell_type": "code",
   "execution_count": 2,
   "metadata": {},
   "outputs": [
    {
     "data": {
      "text/html": [
       "<div>\n",
       "<style scoped>\n",
       "    .dataframe tbody tr th:only-of-type {\n",
       "        vertical-align: middle;\n",
       "    }\n",
       "\n",
       "    .dataframe tbody tr th {\n",
       "        vertical-align: top;\n",
       "    }\n",
       "\n",
       "    .dataframe thead th {\n",
       "        text-align: right;\n",
       "    }\n",
       "</style>\n",
       "<table border=\"1\" class=\"dataframe\">\n",
       "  <thead>\n",
       "    <tr style=\"text-align: right;\">\n",
       "      <th></th>\n",
       "      <th>PatientId</th>\n",
       "      <th>AppointmentID</th>\n",
       "      <th>Gender</th>\n",
       "      <th>ScheduledDay</th>\n",
       "      <th>AppointmentDay</th>\n",
       "      <th>Age</th>\n",
       "      <th>Neighbourhood</th>\n",
       "      <th>Scholarship</th>\n",
       "      <th>Hipertension</th>\n",
       "      <th>Diabetes</th>\n",
       "      <th>Alcoholism</th>\n",
       "      <th>Handcap</th>\n",
       "      <th>SMS_received</th>\n",
       "      <th>No-show</th>\n",
       "    </tr>\n",
       "  </thead>\n",
       "  <tbody>\n",
       "    <tr>\n",
       "      <th>0</th>\n",
       "      <td>2.987250e+13</td>\n",
       "      <td>5642903</td>\n",
       "      <td>F</td>\n",
       "      <td>2016-04-29T18:38:08Z</td>\n",
       "      <td>2016-04-29T00:00:00Z</td>\n",
       "      <td>62</td>\n",
       "      <td>JARDIM DA PENHA</td>\n",
       "      <td>0</td>\n",
       "      <td>1</td>\n",
       "      <td>0</td>\n",
       "      <td>0</td>\n",
       "      <td>0</td>\n",
       "      <td>0</td>\n",
       "      <td>No</td>\n",
       "    </tr>\n",
       "    <tr>\n",
       "      <th>1</th>\n",
       "      <td>5.589978e+14</td>\n",
       "      <td>5642503</td>\n",
       "      <td>M</td>\n",
       "      <td>2016-04-29T16:08:27Z</td>\n",
       "      <td>2016-04-29T00:00:00Z</td>\n",
       "      <td>56</td>\n",
       "      <td>JARDIM DA PENHA</td>\n",
       "      <td>0</td>\n",
       "      <td>0</td>\n",
       "      <td>0</td>\n",
       "      <td>0</td>\n",
       "      <td>0</td>\n",
       "      <td>0</td>\n",
       "      <td>No</td>\n",
       "    </tr>\n",
       "    <tr>\n",
       "      <th>2</th>\n",
       "      <td>4.262962e+12</td>\n",
       "      <td>5642549</td>\n",
       "      <td>F</td>\n",
       "      <td>2016-04-29T16:19:04Z</td>\n",
       "      <td>2016-04-29T00:00:00Z</td>\n",
       "      <td>62</td>\n",
       "      <td>MATA DA PRAIA</td>\n",
       "      <td>0</td>\n",
       "      <td>0</td>\n",
       "      <td>0</td>\n",
       "      <td>0</td>\n",
       "      <td>0</td>\n",
       "      <td>0</td>\n",
       "      <td>No</td>\n",
       "    </tr>\n",
       "    <tr>\n",
       "      <th>3</th>\n",
       "      <td>8.679512e+11</td>\n",
       "      <td>5642828</td>\n",
       "      <td>F</td>\n",
       "      <td>2016-04-29T17:29:31Z</td>\n",
       "      <td>2016-04-29T00:00:00Z</td>\n",
       "      <td>8</td>\n",
       "      <td>PONTAL DE CAMBURI</td>\n",
       "      <td>0</td>\n",
       "      <td>0</td>\n",
       "      <td>0</td>\n",
       "      <td>0</td>\n",
       "      <td>0</td>\n",
       "      <td>0</td>\n",
       "      <td>No</td>\n",
       "    </tr>\n",
       "    <tr>\n",
       "      <th>4</th>\n",
       "      <td>8.841186e+12</td>\n",
       "      <td>5642494</td>\n",
       "      <td>F</td>\n",
       "      <td>2016-04-29T16:07:23Z</td>\n",
       "      <td>2016-04-29T00:00:00Z</td>\n",
       "      <td>56</td>\n",
       "      <td>JARDIM DA PENHA</td>\n",
       "      <td>0</td>\n",
       "      <td>1</td>\n",
       "      <td>1</td>\n",
       "      <td>0</td>\n",
       "      <td>0</td>\n",
       "      <td>0</td>\n",
       "      <td>No</td>\n",
       "    </tr>\n",
       "  </tbody>\n",
       "</table>\n",
       "</div>"
      ],
      "text/plain": [
       "      PatientId  AppointmentID Gender          ScheduledDay  \\\n",
       "0  2.987250e+13        5642903      F  2016-04-29T18:38:08Z   \n",
       "1  5.589978e+14        5642503      M  2016-04-29T16:08:27Z   \n",
       "2  4.262962e+12        5642549      F  2016-04-29T16:19:04Z   \n",
       "3  8.679512e+11        5642828      F  2016-04-29T17:29:31Z   \n",
       "4  8.841186e+12        5642494      F  2016-04-29T16:07:23Z   \n",
       "\n",
       "         AppointmentDay  Age      Neighbourhood  Scholarship  Hipertension  \\\n",
       "0  2016-04-29T00:00:00Z   62    JARDIM DA PENHA            0             1   \n",
       "1  2016-04-29T00:00:00Z   56    JARDIM DA PENHA            0             0   \n",
       "2  2016-04-29T00:00:00Z   62      MATA DA PRAIA            0             0   \n",
       "3  2016-04-29T00:00:00Z    8  PONTAL DE CAMBURI            0             0   \n",
       "4  2016-04-29T00:00:00Z   56    JARDIM DA PENHA            0             1   \n",
       "\n",
       "   Diabetes  Alcoholism  Handcap  SMS_received No-show  \n",
       "0         0           0        0             0      No  \n",
       "1         0           0        0             0      No  \n",
       "2         0           0        0             0      No  \n",
       "3         0           0        0             0      No  \n",
       "4         1           0        0             0      No  "
      ]
     },
     "execution_count": 2,
     "metadata": {},
     "output_type": "execute_result"
    }
   ],
   "source": [
    "df = pd.read_csv('noshowappointments-kagglev2-may-2016.csv')\n",
    "df.head()"
   ]
  },
  {
   "cell_type": "code",
   "execution_count": 3,
   "metadata": {},
   "outputs": [
    {
     "name": "stdout",
     "output_type": "stream",
     "text": [
      "table size: (110527, 14)\n"
     ]
    },
    {
     "data": {
      "text/html": [
       "<div>\n",
       "<style scoped>\n",
       "    .dataframe tbody tr th:only-of-type {\n",
       "        vertical-align: middle;\n",
       "    }\n",
       "\n",
       "    .dataframe tbody tr th {\n",
       "        vertical-align: top;\n",
       "    }\n",
       "\n",
       "    .dataframe thead th {\n",
       "        text-align: right;\n",
       "    }\n",
       "</style>\n",
       "<table border=\"1\" class=\"dataframe\">\n",
       "  <thead>\n",
       "    <tr style=\"text-align: right;\">\n",
       "      <th></th>\n",
       "      <th>PatientId</th>\n",
       "      <th>AppointmentID</th>\n",
       "      <th>Gender</th>\n",
       "      <th>ScheduledDay</th>\n",
       "      <th>AppointmentDay</th>\n",
       "      <th>Age</th>\n",
       "      <th>Neighbourhood</th>\n",
       "      <th>Scholarship</th>\n",
       "      <th>Hipertension</th>\n",
       "      <th>Diabetes</th>\n",
       "      <th>Alcoholism</th>\n",
       "      <th>Handcap</th>\n",
       "      <th>SMS_received</th>\n",
       "      <th>No-show</th>\n",
       "    </tr>\n",
       "  </thead>\n",
       "  <tbody>\n",
       "    <tr>\n",
       "      <th>count</th>\n",
       "      <td>1.105270e+05</td>\n",
       "      <td>1.105270e+05</td>\n",
       "      <td>110527</td>\n",
       "      <td>110527</td>\n",
       "      <td>110527</td>\n",
       "      <td>110527.000000</td>\n",
       "      <td>110527</td>\n",
       "      <td>110527.000000</td>\n",
       "      <td>110527.000000</td>\n",
       "      <td>110527.000000</td>\n",
       "      <td>110527.000000</td>\n",
       "      <td>110527.000000</td>\n",
       "      <td>110527.000000</td>\n",
       "      <td>110527</td>\n",
       "    </tr>\n",
       "    <tr>\n",
       "      <th>unique</th>\n",
       "      <td>NaN</td>\n",
       "      <td>NaN</td>\n",
       "      <td>2</td>\n",
       "      <td>103549</td>\n",
       "      <td>27</td>\n",
       "      <td>NaN</td>\n",
       "      <td>81</td>\n",
       "      <td>NaN</td>\n",
       "      <td>NaN</td>\n",
       "      <td>NaN</td>\n",
       "      <td>NaN</td>\n",
       "      <td>NaN</td>\n",
       "      <td>NaN</td>\n",
       "      <td>2</td>\n",
       "    </tr>\n",
       "    <tr>\n",
       "      <th>top</th>\n",
       "      <td>NaN</td>\n",
       "      <td>NaN</td>\n",
       "      <td>F</td>\n",
       "      <td>2016-05-06T07:09:54Z</td>\n",
       "      <td>2016-06-06T00:00:00Z</td>\n",
       "      <td>NaN</td>\n",
       "      <td>JARDIM CAMBURI</td>\n",
       "      <td>NaN</td>\n",
       "      <td>NaN</td>\n",
       "      <td>NaN</td>\n",
       "      <td>NaN</td>\n",
       "      <td>NaN</td>\n",
       "      <td>NaN</td>\n",
       "      <td>No</td>\n",
       "    </tr>\n",
       "    <tr>\n",
       "      <th>freq</th>\n",
       "      <td>NaN</td>\n",
       "      <td>NaN</td>\n",
       "      <td>71840</td>\n",
       "      <td>24</td>\n",
       "      <td>4692</td>\n",
       "      <td>NaN</td>\n",
       "      <td>7717</td>\n",
       "      <td>NaN</td>\n",
       "      <td>NaN</td>\n",
       "      <td>NaN</td>\n",
       "      <td>NaN</td>\n",
       "      <td>NaN</td>\n",
       "      <td>NaN</td>\n",
       "      <td>88208</td>\n",
       "    </tr>\n",
       "    <tr>\n",
       "      <th>mean</th>\n",
       "      <td>1.474963e+14</td>\n",
       "      <td>5.675305e+06</td>\n",
       "      <td>NaN</td>\n",
       "      <td>NaN</td>\n",
       "      <td>NaN</td>\n",
       "      <td>37.088874</td>\n",
       "      <td>NaN</td>\n",
       "      <td>0.098266</td>\n",
       "      <td>0.197246</td>\n",
       "      <td>0.071865</td>\n",
       "      <td>0.030400</td>\n",
       "      <td>0.022248</td>\n",
       "      <td>0.321026</td>\n",
       "      <td>NaN</td>\n",
       "    </tr>\n",
       "    <tr>\n",
       "      <th>std</th>\n",
       "      <td>2.560949e+14</td>\n",
       "      <td>7.129575e+04</td>\n",
       "      <td>NaN</td>\n",
       "      <td>NaN</td>\n",
       "      <td>NaN</td>\n",
       "      <td>23.110205</td>\n",
       "      <td>NaN</td>\n",
       "      <td>0.297675</td>\n",
       "      <td>0.397921</td>\n",
       "      <td>0.258265</td>\n",
       "      <td>0.171686</td>\n",
       "      <td>0.161543</td>\n",
       "      <td>0.466873</td>\n",
       "      <td>NaN</td>\n",
       "    </tr>\n",
       "    <tr>\n",
       "      <th>min</th>\n",
       "      <td>3.921784e+04</td>\n",
       "      <td>5.030230e+06</td>\n",
       "      <td>NaN</td>\n",
       "      <td>NaN</td>\n",
       "      <td>NaN</td>\n",
       "      <td>-1.000000</td>\n",
       "      <td>NaN</td>\n",
       "      <td>0.000000</td>\n",
       "      <td>0.000000</td>\n",
       "      <td>0.000000</td>\n",
       "      <td>0.000000</td>\n",
       "      <td>0.000000</td>\n",
       "      <td>0.000000</td>\n",
       "      <td>NaN</td>\n",
       "    </tr>\n",
       "    <tr>\n",
       "      <th>25%</th>\n",
       "      <td>4.172614e+12</td>\n",
       "      <td>5.640286e+06</td>\n",
       "      <td>NaN</td>\n",
       "      <td>NaN</td>\n",
       "      <td>NaN</td>\n",
       "      <td>18.000000</td>\n",
       "      <td>NaN</td>\n",
       "      <td>0.000000</td>\n",
       "      <td>0.000000</td>\n",
       "      <td>0.000000</td>\n",
       "      <td>0.000000</td>\n",
       "      <td>0.000000</td>\n",
       "      <td>0.000000</td>\n",
       "      <td>NaN</td>\n",
       "    </tr>\n",
       "    <tr>\n",
       "      <th>50%</th>\n",
       "      <td>3.173184e+13</td>\n",
       "      <td>5.680573e+06</td>\n",
       "      <td>NaN</td>\n",
       "      <td>NaN</td>\n",
       "      <td>NaN</td>\n",
       "      <td>37.000000</td>\n",
       "      <td>NaN</td>\n",
       "      <td>0.000000</td>\n",
       "      <td>0.000000</td>\n",
       "      <td>0.000000</td>\n",
       "      <td>0.000000</td>\n",
       "      <td>0.000000</td>\n",
       "      <td>0.000000</td>\n",
       "      <td>NaN</td>\n",
       "    </tr>\n",
       "    <tr>\n",
       "      <th>75%</th>\n",
       "      <td>9.439172e+13</td>\n",
       "      <td>5.725524e+06</td>\n",
       "      <td>NaN</td>\n",
       "      <td>NaN</td>\n",
       "      <td>NaN</td>\n",
       "      <td>55.000000</td>\n",
       "      <td>NaN</td>\n",
       "      <td>0.000000</td>\n",
       "      <td>0.000000</td>\n",
       "      <td>0.000000</td>\n",
       "      <td>0.000000</td>\n",
       "      <td>0.000000</td>\n",
       "      <td>1.000000</td>\n",
       "      <td>NaN</td>\n",
       "    </tr>\n",
       "    <tr>\n",
       "      <th>max</th>\n",
       "      <td>9.999816e+14</td>\n",
       "      <td>5.790484e+06</td>\n",
       "      <td>NaN</td>\n",
       "      <td>NaN</td>\n",
       "      <td>NaN</td>\n",
       "      <td>115.000000</td>\n",
       "      <td>NaN</td>\n",
       "      <td>1.000000</td>\n",
       "      <td>1.000000</td>\n",
       "      <td>1.000000</td>\n",
       "      <td>1.000000</td>\n",
       "      <td>4.000000</td>\n",
       "      <td>1.000000</td>\n",
       "      <td>NaN</td>\n",
       "    </tr>\n",
       "  </tbody>\n",
       "</table>\n",
       "</div>"
      ],
      "text/plain": [
       "           PatientId  AppointmentID  Gender          ScheduledDay  \\\n",
       "count   1.105270e+05   1.105270e+05  110527                110527   \n",
       "unique           NaN            NaN       2                103549   \n",
       "top              NaN            NaN       F  2016-05-06T07:09:54Z   \n",
       "freq             NaN            NaN   71840                    24   \n",
       "mean    1.474963e+14   5.675305e+06     NaN                   NaN   \n",
       "std     2.560949e+14   7.129575e+04     NaN                   NaN   \n",
       "min     3.921784e+04   5.030230e+06     NaN                   NaN   \n",
       "25%     4.172614e+12   5.640286e+06     NaN                   NaN   \n",
       "50%     3.173184e+13   5.680573e+06     NaN                   NaN   \n",
       "75%     9.439172e+13   5.725524e+06     NaN                   NaN   \n",
       "max     9.999816e+14   5.790484e+06     NaN                   NaN   \n",
       "\n",
       "              AppointmentDay            Age   Neighbourhood    Scholarship  \\\n",
       "count                 110527  110527.000000          110527  110527.000000   \n",
       "unique                    27            NaN              81            NaN   \n",
       "top     2016-06-06T00:00:00Z            NaN  JARDIM CAMBURI            NaN   \n",
       "freq                    4692            NaN            7717            NaN   \n",
       "mean                     NaN      37.088874             NaN       0.098266   \n",
       "std                      NaN      23.110205             NaN       0.297675   \n",
       "min                      NaN      -1.000000             NaN       0.000000   \n",
       "25%                      NaN      18.000000             NaN       0.000000   \n",
       "50%                      NaN      37.000000             NaN       0.000000   \n",
       "75%                      NaN      55.000000             NaN       0.000000   \n",
       "max                      NaN     115.000000             NaN       1.000000   \n",
       "\n",
       "         Hipertension       Diabetes     Alcoholism        Handcap  \\\n",
       "count   110527.000000  110527.000000  110527.000000  110527.000000   \n",
       "unique            NaN            NaN            NaN            NaN   \n",
       "top               NaN            NaN            NaN            NaN   \n",
       "freq              NaN            NaN            NaN            NaN   \n",
       "mean         0.197246       0.071865       0.030400       0.022248   \n",
       "std          0.397921       0.258265       0.171686       0.161543   \n",
       "min          0.000000       0.000000       0.000000       0.000000   \n",
       "25%          0.000000       0.000000       0.000000       0.000000   \n",
       "50%          0.000000       0.000000       0.000000       0.000000   \n",
       "75%          0.000000       0.000000       0.000000       0.000000   \n",
       "max          1.000000       1.000000       1.000000       4.000000   \n",
       "\n",
       "         SMS_received No-show  \n",
       "count   110527.000000  110527  \n",
       "unique            NaN       2  \n",
       "top               NaN      No  \n",
       "freq              NaN   88208  \n",
       "mean         0.321026     NaN  \n",
       "std          0.466873     NaN  \n",
       "min          0.000000     NaN  \n",
       "25%          0.000000     NaN  \n",
       "50%          0.000000     NaN  \n",
       "75%          1.000000     NaN  \n",
       "max          1.000000     NaN  "
      ]
     },
     "execution_count": 3,
     "metadata": {},
     "output_type": "execute_result"
    }
   ],
   "source": [
    "print('table size:',df.shape)\n",
    "df.describe(include = \"all\")"
   ]
  },
  {
   "cell_type": "code",
   "execution_count": 4,
   "metadata": {},
   "outputs": [
    {
     "name": "stdout",
     "output_type": "stream",
     "text": [
      "------------ Basic information---------------- \n",
      " \n",
      "\n",
      "<class 'pandas.core.frame.DataFrame'>\n",
      "RangeIndex: 110527 entries, 0 to 110526\n",
      "Data columns (total 14 columns):\n",
      "PatientId         110527 non-null float64\n",
      "AppointmentID     110527 non-null int64\n",
      "Gender            110527 non-null object\n",
      "ScheduledDay      110527 non-null object\n",
      "AppointmentDay    110527 non-null object\n",
      "Age               110527 non-null int64\n",
      "Neighbourhood     110527 non-null object\n",
      "Scholarship       110527 non-null int64\n",
      "Hipertension      110527 non-null int64\n",
      "Diabetes          110527 non-null int64\n",
      "Alcoholism        110527 non-null int64\n",
      "Handcap           110527 non-null int64\n",
      "SMS_received      110527 non-null int64\n",
      "No-show           110527 non-null object\n",
      "dtypes: float64(1), int64(8), object(5)\n",
      "memory usage: 11.8+ MB\n",
      "None\n",
      "\n",
      " \n",
      "\n",
      "------------ Data type of each column---------------- \n",
      " \n",
      "\n",
      "PatientId         float64\n",
      "AppointmentID       int64\n",
      "Gender             object\n",
      "ScheduledDay       object\n",
      "AppointmentDay     object\n",
      "Age                 int64\n",
      "Neighbourhood      object\n",
      "Scholarship         int64\n",
      "Hipertension        int64\n",
      "Diabetes            int64\n",
      "Alcoholism          int64\n",
      "Handcap             int64\n",
      "SMS_received        int64\n",
      "No-show            object\n",
      "dtype: object\n",
      "\n",
      " \n",
      "\n",
      "------------ Number of unique values in each column---------------- \n",
      " \n",
      "\n",
      "PatientId          62299\n",
      "AppointmentID     110527\n",
      "Gender                 2\n",
      "ScheduledDay      103549\n",
      "AppointmentDay        27\n",
      "Age                  104\n",
      "Neighbourhood         81\n",
      "Scholarship            2\n",
      "Hipertension           2\n",
      "Diabetes               2\n",
      "Alcoholism             2\n",
      "Handcap                5\n",
      "SMS_received           2\n",
      "No-show                2\n",
      "dtype: int64\n",
      "\n",
      " \n",
      "\n",
      "------------ Which columns have no values?---------------- \n",
      " \n",
      "\n",
      "PatientId         0\n",
      "AppointmentID     0\n",
      "Gender            0\n",
      "ScheduledDay      0\n",
      "AppointmentDay    0\n",
      "Age               0\n",
      "Neighbourhood     0\n",
      "Scholarship       0\n",
      "Hipertension      0\n",
      "Diabetes          0\n",
      "Alcoholism        0\n",
      "Handcap           0\n",
      "SMS_received      0\n",
      "No-show           0\n",
      "dtype: int64\n"
     ]
    }
   ],
   "source": [
    "print('------------ Basic information---------------- \\n \\n')\n",
    "print(df.info())\n",
    "print('\\n \\n')\n",
    "\n",
    "print('------------ Data type of each column---------------- \\n \\n')\n",
    "print(df.dtypes)\n",
    "print('\\n \\n')\n",
    "\n",
    "print('------------ Number of unique values in each column---------------- \\n \\n')\n",
    "print(df.nunique())\n",
    "print('\\n \\n')\n",
    "\n",
    "print('------------ Which columns have no values?---------------- \\n \\n')\n",
    "print(df.isnull().sum())"
   ]
  },
  {
   "cell_type": "markdown",
   "metadata": {},
   "source": [
    "### Questions"
   ]
  },
  {
   "cell_type": "markdown",
   "metadata": {},
   "source": [
    "now that we have become more familiar with the dataset, some questions are risen to be answered, which can be seen below.\n",
    "- Does the plus point given to patients(scholarship or sms notification) have any correlation with appointments?\n",
    "- Does the number of inabilities can play an important role?\n",
    "- Do patients who have made an appointment more than once miss more appointment time or vice versa?\n",
    "- Does gender play an important role?\n",
    "- Can we find any relationship with the amount of time between appointmentday and scheduleday  and apperance on appointment date?\n",
    "- In which neighbourhood more patient did not show up?\n",
    "- Which age groups miss more appointment date?\n",
    "- Can we predict which patients will show up on the appointment date?\n"
   ]
  },
  {
   "cell_type": "markdown",
   "metadata": {},
   "source": [
    "<a id='wrangling'></a>\n",
    "## 2- Data Wrangling\n",
    "\n"
   ]
  },
  {
   "cell_type": "markdown",
   "metadata": {},
   "source": [
    "In this section we investigate data to detect any anomaly and make it ready for the next phase, which is exploratory data analysis. \n",
    "\n",
    "the dataset has beeen imported in previous section and some basic information have been extracted as well. first of all, we need to change the date format in scheduledDay and Appointmentday to datetime. Then, when we scrutinized the info, we found out that there is a patient with year -1. This patient will be replaced with 0 and categorized as a child with less than a year old. another issue is the handicap which has named 'handcap' on the table. the title need to be changed and data should be binary, meaning that whether a patient have handicapped problem or not. numbers other than 0 and 1 should be amended."
   ]
  },
  {
   "cell_type": "code",
   "execution_count": 9,
   "metadata": {},
   "outputs": [
    {
     "data": {
      "text/plain": [
       "AppointmentDay    datetime64[ns]\n",
       "ScheduledDay      datetime64[ns]\n",
       "dtype: object"
      ]
     },
     "execution_count": 9,
     "metadata": {},
     "output_type": "execute_result"
    }
   ],
   "source": [
    "# change format\n",
    "df['ScheduledDay'] = df['ScheduledDay'].str.extract('(....-..-..)')\n",
    "df['AppointmentDay'] = df['AppointmentDay'].str.extract('(....-..-..)')\n",
    "df['ScheduledDay'] = pd.to_datetime(df['ScheduledDay'],format=\"%Y-%m-%d\")\n",
    "df['AppointmentDay'] = pd.to_datetime(df['AppointmentDay'],format=\"%Y-%m-%d\")\n",
    "df[['AppointmentDay','ScheduledDay']].dtypes"
   ]
  },
  {
   "cell_type": "code",
   "execution_count": 10,
   "metadata": {},
   "outputs": [],
   "source": [
    "#add new column\n",
    "df['Difference'] = df['AppointmentDay'] - df['ScheduledDay']\n",
    "\n",
    "df = df[['PatientId', 'AppointmentID', 'Gender', 'ScheduledDay',\n",
    "       'AppointmentDay','Difference', 'Age', 'Neighbourhood', 'Scholarship', 'Hipertension',\n",
    "       'Diabetes', 'Alcoholism', 'Handcap', 'SMS_received', 'No-show' ]]"
   ]
  },
  {
   "cell_type": "code",
   "execution_count": 11,
   "metadata": {},
   "outputs": [],
   "source": [
    "#rename columns\n",
    "df.rename(columns = {'Handcap': 'Handicap', 'No-show': 'No_show'}, inplace = True)"
   ]
  },
  {
   "cell_type": "code",
   "execution_count": 6,
   "metadata": {},
   "outputs": [
    {
     "data": {
      "text/plain": [
       "<matplotlib.axes._subplots.AxesSubplot at 0x1ca05e1fb70>"
      ]
     },
     "execution_count": 6,
     "metadata": {},
     "output_type": "execute_result"
    },
    {
     "data": {
      "image/png": "[encoded data removed]",
      "text/plain": [
       "<Figure size 842.4x595.44 with 2 Axes>"
      ]
     },
     "metadata": {},
     "output_type": "display_data"
    }
   ],
   "source": [
    "#missing values\n",
    "sns.set(rc={'figure.figsize':(11.7,8.27)})\n",
    "colours = ['#ffff00','#000099'] # specify the colours - yellow is missing. blue is not missing.\n",
    "sns.heatmap(df.isnull(), cmap=sns.color_palette(colours))"
   ]
  },
  {
   "cell_type": "code",
   "execution_count": 12,
   "metadata": {},
   "outputs": [
    {
     "name": "stdout",
     "output_type": "stream",
     "text": [
      "Number of handicap (before) \n",
      " 0    108286\n",
      "1      2042\n",
      "2       183\n",
      "3        13\n",
      "4         3\n",
      "Name: Handicap, dtype: int64\n",
      "\n",
      " Number of handicap (after) \n",
      " 0    108286\n",
      "1      2241\n",
      "Name: Handicap, dtype: int64\n"
     ]
    }
   ],
   "source": [
    "#handicap \n",
    "print(\"Number of handicap (before) \\n\", df.Handicap.value_counts())\n",
    "\n",
    "#iterate over patients that have more than one handicap\n",
    "Handicap_plus_1 = df[df['Handicap'] > 1]\n",
    "for i in Handicap_plus_1.index:\n",
    "    df.loc[i,'Handicap'] = 1\n",
    "\n",
    "print(\"\\n Number of handicap (after) \\n\", df.Handicap.value_counts())    \n"
   ]
  },
  {
   "cell_type": "code",
   "execution_count": 13,
   "metadata": {},
   "outputs": [],
   "source": [
    "#change the age to zero\n",
    "df.loc[df[df['Age'] < 0].index ,'Age'] = 0\n",
    "    "
   ]
  },
  {
   "cell_type": "markdown",
   "metadata": {},
   "source": [
    "<a id='eda'></a>\n",
    "## 3- Exploratory Data Analysis\n"
   ]
  },
  {
   "cell_type": "markdown",
   "metadata": {},
   "source": [
    "Now that the data is cleaned, analysis can be started. at first we plot a histogram of each feature to gain more information about the disparity of data. then a function will be defined to enable us to compare each column in the number of appereance on appointment date and the number of missing one. this method can help to distinguish features which had effect on showing up on appointments. After that, we define our own features to calculate their effects as well, and finally, a support vector machine algorithm, which is a machine learning algorithm will be run to help us train a model to predict which patients will be shown up in the future."
   ]
  },
  {
   "cell_type": "markdown",
   "metadata": {},
   "source": [
    "### Basic info"
   ]
  },
  {
   "cell_type": "code",
   "execution_count": 11,
   "metadata": {},
   "outputs": [
    {
     "data": {
      "image/png": "[encoded data removed]",
      "text/plain": [
       "<Figure size 1080x720 with 9 Axes>"
      ]
     },
     "metadata": {},
     "output_type": "display_data"
    }
   ],
   "source": [
    "# histogram of each variable\n",
    "df.hist(figsize=(15,10));"
   ]
  },
  {
   "cell_type": "code",
   "execution_count": 14,
   "metadata": {},
   "outputs": [
    {
     "data": {
      "text/html": [
       "<div>\n",
       "<style scoped>\n",
       "    .dataframe tbody tr th:only-of-type {\n",
       "        vertical-align: middle;\n",
       "    }\n",
       "\n",
       "    .dataframe tbody tr th {\n",
       "        vertical-align: top;\n",
       "    }\n",
       "\n",
       "    .dataframe thead th {\n",
       "        text-align: right;\n",
       "    }\n",
       "</style>\n",
       "<table border=\"1\" class=\"dataframe\">\n",
       "  <thead>\n",
       "    <tr style=\"text-align: right;\">\n",
       "      <th></th>\n",
       "      <th>PatientId</th>\n",
       "      <th>AppointmentID</th>\n",
       "      <th>Age</th>\n",
       "      <th>Scholarship</th>\n",
       "      <th>Hipertension</th>\n",
       "      <th>Diabetes</th>\n",
       "      <th>Alcoholism</th>\n",
       "      <th>Handicap</th>\n",
       "      <th>SMS_received</th>\n",
       "      <th>No_show</th>\n",
       "    </tr>\n",
       "  </thead>\n",
       "  <tbody>\n",
       "    <tr>\n",
       "      <th>PatientId</th>\n",
       "      <td>1.000000</td>\n",
       "      <td>0.004039</td>\n",
       "      <td>-0.004139</td>\n",
       "      <td>-0.002880</td>\n",
       "      <td>-0.006441</td>\n",
       "      <td>0.001605</td>\n",
       "      <td>0.011011</td>\n",
       "      <td>-0.008659</td>\n",
       "      <td>-0.009749</td>\n",
       "      <td>-0.001461</td>\n",
       "    </tr>\n",
       "    <tr>\n",
       "      <th>AppointmentID</th>\n",
       "      <td>0.004039</td>\n",
       "      <td>1.000000</td>\n",
       "      <td>-0.019126</td>\n",
       "      <td>0.022615</td>\n",
       "      <td>0.012752</td>\n",
       "      <td>0.022628</td>\n",
       "      <td>0.032944</td>\n",
       "      <td>0.015126</td>\n",
       "      <td>-0.256618</td>\n",
       "      <td>-0.162602</td>\n",
       "    </tr>\n",
       "    <tr>\n",
       "      <th>Age</th>\n",
       "      <td>-0.004139</td>\n",
       "      <td>-0.019126</td>\n",
       "      <td>1.000000</td>\n",
       "      <td>-0.092457</td>\n",
       "      <td>0.504586</td>\n",
       "      <td>0.292392</td>\n",
       "      <td>0.095811</td>\n",
       "      <td>0.083743</td>\n",
       "      <td>0.012643</td>\n",
       "      <td>-0.060319</td>\n",
       "    </tr>\n",
       "    <tr>\n",
       "      <th>Scholarship</th>\n",
       "      <td>-0.002880</td>\n",
       "      <td>0.022615</td>\n",
       "      <td>-0.092457</td>\n",
       "      <td>1.000000</td>\n",
       "      <td>-0.019729</td>\n",
       "      <td>-0.024894</td>\n",
       "      <td>0.035022</td>\n",
       "      <td>-0.009103</td>\n",
       "      <td>0.001194</td>\n",
       "      <td>0.029135</td>\n",
       "    </tr>\n",
       "    <tr>\n",
       "      <th>Hipertension</th>\n",
       "      <td>-0.006441</td>\n",
       "      <td>0.012752</td>\n",
       "      <td>0.504586</td>\n",
       "      <td>-0.019729</td>\n",
       "      <td>1.000000</td>\n",
       "      <td>0.433086</td>\n",
       "      <td>0.087971</td>\n",
       "      <td>0.084852</td>\n",
       "      <td>-0.006267</td>\n",
       "      <td>-0.035701</td>\n",
       "    </tr>\n",
       "    <tr>\n",
       "      <th>Diabetes</th>\n",
       "      <td>0.001605</td>\n",
       "      <td>0.022628</td>\n",
       "      <td>0.292392</td>\n",
       "      <td>-0.024894</td>\n",
       "      <td>0.433086</td>\n",
       "      <td>1.000000</td>\n",
       "      <td>0.018474</td>\n",
       "      <td>0.059145</td>\n",
       "      <td>-0.014550</td>\n",
       "      <td>-0.015180</td>\n",
       "    </tr>\n",
       "    <tr>\n",
       "      <th>Alcoholism</th>\n",
       "      <td>0.011011</td>\n",
       "      <td>0.032944</td>\n",
       "      <td>0.095811</td>\n",
       "      <td>0.035022</td>\n",
       "      <td>0.087971</td>\n",
       "      <td>0.018474</td>\n",
       "      <td>1.000000</td>\n",
       "      <td>0.003692</td>\n",
       "      <td>-0.026147</td>\n",
       "      <td>-0.000196</td>\n",
       "    </tr>\n",
       "    <tr>\n",
       "      <th>Handicap</th>\n",
       "      <td>-0.008659</td>\n",
       "      <td>0.015126</td>\n",
       "      <td>0.083743</td>\n",
       "      <td>-0.009103</td>\n",
       "      <td>0.084852</td>\n",
       "      <td>0.059145</td>\n",
       "      <td>0.003692</td>\n",
       "      <td>1.000000</td>\n",
       "      <td>-0.025220</td>\n",
       "      <td>-0.007281</td>\n",
       "    </tr>\n",
       "    <tr>\n",
       "      <th>SMS_received</th>\n",
       "      <td>-0.009749</td>\n",
       "      <td>-0.256618</td>\n",
       "      <td>0.012643</td>\n",
       "      <td>0.001194</td>\n",
       "      <td>-0.006267</td>\n",
       "      <td>-0.014550</td>\n",
       "      <td>-0.026147</td>\n",
       "      <td>-0.025220</td>\n",
       "      <td>1.000000</td>\n",
       "      <td>0.126431</td>\n",
       "    </tr>\n",
       "    <tr>\n",
       "      <th>No_show</th>\n",
       "      <td>-0.001461</td>\n",
       "      <td>-0.162602</td>\n",
       "      <td>-0.060319</td>\n",
       "      <td>0.029135</td>\n",
       "      <td>-0.035701</td>\n",
       "      <td>-0.015180</td>\n",
       "      <td>-0.000196</td>\n",
       "      <td>-0.007281</td>\n",
       "      <td>0.126431</td>\n",
       "      <td>1.000000</td>\n",
       "    </tr>\n",
       "  </tbody>\n",
       "</table>\n",
       "</div>"
      ],
      "text/plain": [
       "               PatientId  AppointmentID       Age  Scholarship  Hipertension  \\\n",
       "PatientId       1.000000       0.004039 -0.004139    -0.002880     -0.006441   \n",
       "AppointmentID   0.004039       1.000000 -0.019126     0.022615      0.012752   \n",
       "Age            -0.004139      -0.019126  1.000000    -0.092457      0.504586   \n",
       "Scholarship    -0.002880       0.022615 -0.092457     1.000000     -0.019729   \n",
       "Hipertension   -0.006441       0.012752  0.504586    -0.019729      1.000000   \n",
       "Diabetes        0.001605       0.022628  0.292392    -0.024894      0.433086   \n",
       "Alcoholism      0.011011       0.032944  0.095811     0.035022      0.087971   \n",
       "Handicap       -0.008659       0.015126  0.083743    -0.009103      0.084852   \n",
       "SMS_received   -0.009749      -0.256618  0.012643     0.001194     -0.006267   \n",
       "No_show        -0.001461      -0.162602 -0.060319     0.029135     -0.035701   \n",
       "\n",
       "               Diabetes  Alcoholism  Handicap  SMS_received   No_show  \n",
       "PatientId      0.001605    0.011011 -0.008659     -0.009749 -0.001461  \n",
       "AppointmentID  0.022628    0.032944  0.015126     -0.256618 -0.162602  \n",
       "Age            0.292392    0.095811  0.083743      0.012643 -0.060319  \n",
       "Scholarship   -0.024894    0.035022 -0.009103      0.001194  0.029135  \n",
       "Hipertension   0.433086    0.087971  0.084852     -0.006267 -0.035701  \n",
       "Diabetes       1.000000    0.018474  0.059145     -0.014550 -0.015180  \n",
       "Alcoholism     0.018474    1.000000  0.003692     -0.026147 -0.000196  \n",
       "Handicap       0.059145    0.003692  1.000000     -0.025220 -0.007281  \n",
       "SMS_received  -0.014550   -0.026147 -0.025220      1.000000  0.126431  \n",
       "No_show       -0.015180   -0.000196 -0.007281      0.126431  1.000000  "
      ]
     },
     "execution_count": 14,
     "metadata": {},
     "output_type": "execute_result"
    }
   ],
   "source": [
    "#correlation between each variable\n",
    "df_n = df.copy()\n",
    "df_n['No_show'] = df_n['No_show'].replace({'No': 0, 'Yes': 1})\n",
    "df_n.corr()"
   ]
  },
  {
   "cell_type": "markdown",
   "metadata": {},
   "source": [
    "When we look at the histograms, the first thing that catch our eyes is that most of the patients did not have any inabiliy issues such as handicap or other problems like alchololism, Diabetes or hipertension, which can be concluded that there must be another reason why they did not show up on their appointment date. let's not jump into the conclusion, but this is what we first see. then the correlation table shows us there is not any strong correlation between variable, except between hipertension and age and diabetes. but let's dive deeper into the analysis."
   ]
  },
  {
   "cell_type": "markdown",
   "metadata": {},
   "source": [
    "### Define a comparative function"
   ]
  },
  {
   "cell_type": "markdown",
   "metadata": {},
   "source": [
    "The main goal here is to make a comparison between patients who have successfully met their doctors on the scheduled date and the ones who missed it. So, a function was defined to help us make that comparison in different situation to see whether there are any relationship between our variables and show up date on the appointment or not."
   ]
  },
  {
   "cell_type": "code",
   "execution_count": 15,
   "metadata": {},
   "outputs": [],
   "source": [
    "\n",
    "def no_show_up(x):\n",
    "    \n",
    "    df_groupby = df.groupby([x])['No_show'].count().to_frame()\n",
    "\n",
    "    #number of patients who did not cancel the appointment time by the target column\n",
    "    df_groupby_no = df[df['No_show'] == 'No'].groupby([x])['No_show'].count()\n",
    "    #number of patients who did not cancel the appointment time by the target column\n",
    "    df_groupby_yes = df[df['No_show'] == 'Yes'].groupby([x])['No_show'].count()\n",
    "\n",
    "    #merge tables\n",
    "    df_groupby = df_groupby.merge(df_groupby_no, left_on = x , right_on = x ).merge(df_groupby_yes, left_on = x, right_on = x)\n",
    "    df_groupby.rename(columns={ 'No_show_x': 'Total', 'No_show_y': 'Show_up', 'No_show': 'No_show_up'}, inplace = True)\n",
    "\n",
    "    #percentage of No show by the target column\n",
    "    df_groupby['No_show_up_%'] = df_groupby['No_show_up'] / df_groupby['Total']\n",
    "    \n",
    "    return df_groupby"
   ]
  },
  {
   "cell_type": "markdown",
   "metadata": {},
   "source": [
    "### In which neighbourhood more patient did not show up?"
   ]
  },
  {
   "cell_type": "markdown",
   "metadata": {},
   "source": [
    "At first, let's see which neighbourhoods are notorious for not showing up."
   ]
  },
  {
   "cell_type": "code",
   "execution_count": 14,
   "metadata": {},
   "outputs": [
    {
     "data": {
      "text/html": [
       "<div>\n",
       "<style scoped>\n",
       "    .dataframe tbody tr th:only-of-type {\n",
       "        vertical-align: middle;\n",
       "    }\n",
       "\n",
       "    .dataframe tbody tr th {\n",
       "        vertical-align: top;\n",
       "    }\n",
       "\n",
       "    .dataframe thead th {\n",
       "        text-align: right;\n",
       "    }\n",
       "</style>\n",
       "<table border=\"1\" class=\"dataframe\">\n",
       "  <thead>\n",
       "    <tr style=\"text-align: right;\">\n",
       "      <th></th>\n",
       "      <th>Neighbourhood</th>\n",
       "      <th>Total</th>\n",
       "      <th>Show_up</th>\n",
       "      <th>No_show_up</th>\n",
       "      <th>No_show_up_%</th>\n",
       "    </tr>\n",
       "  </thead>\n",
       "  <tbody>\n",
       "    <tr>\n",
       "      <th>0</th>\n",
       "      <td>SANTOS DUMONT</td>\n",
       "      <td>1276</td>\n",
       "      <td>907</td>\n",
       "      <td>369</td>\n",
       "      <td>0.289185</td>\n",
       "    </tr>\n",
       "    <tr>\n",
       "      <th>1</th>\n",
       "      <td>SANTA CECÍLIA</td>\n",
       "      <td>448</td>\n",
       "      <td>325</td>\n",
       "      <td>123</td>\n",
       "      <td>0.274554</td>\n",
       "    </tr>\n",
       "    <tr>\n",
       "      <th>2</th>\n",
       "      <td>SANTA CLARA</td>\n",
       "      <td>506</td>\n",
       "      <td>372</td>\n",
       "      <td>134</td>\n",
       "      <td>0.264822</td>\n",
       "    </tr>\n",
       "    <tr>\n",
       "      <th>3</th>\n",
       "      <td>ITARARÉ</td>\n",
       "      <td>3514</td>\n",
       "      <td>2591</td>\n",
       "      <td>923</td>\n",
       "      <td>0.262664</td>\n",
       "    </tr>\n",
       "    <tr>\n",
       "      <th>4</th>\n",
       "      <td>JESUS DE NAZARETH</td>\n",
       "      <td>2853</td>\n",
       "      <td>2157</td>\n",
       "      <td>696</td>\n",
       "      <td>0.243954</td>\n",
       "    </tr>\n",
       "    <tr>\n",
       "      <th>5</th>\n",
       "      <td>HORTO</td>\n",
       "      <td>175</td>\n",
       "      <td>133</td>\n",
       "      <td>42</td>\n",
       "      <td>0.240000</td>\n",
       "    </tr>\n",
       "    <tr>\n",
       "      <th>6</th>\n",
       "      <td>ILHA DO PRÍNCIPE</td>\n",
       "      <td>2266</td>\n",
       "      <td>1734</td>\n",
       "      <td>532</td>\n",
       "      <td>0.234775</td>\n",
       "    </tr>\n",
       "    <tr>\n",
       "      <th>7</th>\n",
       "      <td>CARATOÍRA</td>\n",
       "      <td>2565</td>\n",
       "      <td>1974</td>\n",
       "      <td>591</td>\n",
       "      <td>0.230409</td>\n",
       "    </tr>\n",
       "    <tr>\n",
       "      <th>8</th>\n",
       "      <td>ANDORINHAS</td>\n",
       "      <td>2262</td>\n",
       "      <td>1741</td>\n",
       "      <td>521</td>\n",
       "      <td>0.230327</td>\n",
       "    </tr>\n",
       "    <tr>\n",
       "      <th>9</th>\n",
       "      <td>PRAIA DO SUÁ</td>\n",
       "      <td>1288</td>\n",
       "      <td>994</td>\n",
       "      <td>294</td>\n",
       "      <td>0.228261</td>\n",
       "    </tr>\n",
       "  </tbody>\n",
       "</table>\n",
       "</div>"
      ],
      "text/plain": [
       "       Neighbourhood  Total  Show_up  No_show_up  No_show_up_%\n",
       "0      SANTOS DUMONT   1276      907         369      0.289185\n",
       "1      SANTA CECÍLIA    448      325         123      0.274554\n",
       "2        SANTA CLARA    506      372         134      0.264822\n",
       "3            ITARARÉ   3514     2591         923      0.262664\n",
       "4  JESUS DE NAZARETH   2853     2157         696      0.243954\n",
       "5              HORTO    175      133          42      0.240000\n",
       "6   ILHA DO PRÍNCIPE   2266     1734         532      0.234775\n",
       "7          CARATOÍRA   2565     1974         591      0.230409\n",
       "8         ANDORINHAS   2262     1741         521      0.230327\n",
       "9       PRAIA DO SUÁ   1288      994         294      0.228261"
      ]
     },
     "execution_count": 14,
     "metadata": {},
     "output_type": "execute_result"
    }
   ],
   "source": [
    "df_neighbourhood = no_show_up('Neighbourhood').sort_values('No_show_up_%', ascending = False).reset_index()\n",
    "df_neighbourhood.head(10)"
   ]
  },
  {
   "cell_type": "code",
   "execution_count": 15,
   "metadata": {},
   "outputs": [
    {
     "data": {
      "text/html": [
       "<div>\n",
       "<style scoped>\n",
       "    .dataframe tbody tr th:only-of-type {\n",
       "        vertical-align: middle;\n",
       "    }\n",
       "\n",
       "    .dataframe tbody tr th {\n",
       "        vertical-align: top;\n",
       "    }\n",
       "\n",
       "    .dataframe thead th {\n",
       "        text-align: right;\n",
       "    }\n",
       "</style>\n",
       "<table border=\"1\" class=\"dataframe\">\n",
       "  <thead>\n",
       "    <tr style=\"text-align: right;\">\n",
       "      <th></th>\n",
       "      <th>Neighbourhood</th>\n",
       "      <th>Total</th>\n",
       "      <th>Show_up</th>\n",
       "      <th>No_show_up</th>\n",
       "      <th>No_show_up_%</th>\n",
       "    </tr>\n",
       "  </thead>\n",
       "  <tbody>\n",
       "    <tr>\n",
       "      <th>69</th>\n",
       "      <td>VILA RUBIM</td>\n",
       "      <td>851</td>\n",
       "      <td>710</td>\n",
       "      <td>141</td>\n",
       "      <td>0.165687</td>\n",
       "    </tr>\n",
       "    <tr>\n",
       "      <th>70</th>\n",
       "      <td>DO QUADRO</td>\n",
       "      <td>849</td>\n",
       "      <td>709</td>\n",
       "      <td>140</td>\n",
       "      <td>0.164900</td>\n",
       "    </tr>\n",
       "    <tr>\n",
       "      <th>71</th>\n",
       "      <td>JARDIM DA PENHA</td>\n",
       "      <td>3877</td>\n",
       "      <td>3246</td>\n",
       "      <td>631</td>\n",
       "      <td>0.162755</td>\n",
       "    </tr>\n",
       "    <tr>\n",
       "      <th>72</th>\n",
       "      <td>SANTA MARTHA</td>\n",
       "      <td>3131</td>\n",
       "      <td>2635</td>\n",
       "      <td>496</td>\n",
       "      <td>0.158416</td>\n",
       "    </tr>\n",
       "    <tr>\n",
       "      <th>73</th>\n",
       "      <td>DO CABRAL</td>\n",
       "      <td>560</td>\n",
       "      <td>472</td>\n",
       "      <td>88</td>\n",
       "      <td>0.157143</td>\n",
       "    </tr>\n",
       "    <tr>\n",
       "      <th>74</th>\n",
       "      <td>DE LOURDES</td>\n",
       "      <td>305</td>\n",
       "      <td>258</td>\n",
       "      <td>47</td>\n",
       "      <td>0.154098</td>\n",
       "    </tr>\n",
       "    <tr>\n",
       "      <th>75</th>\n",
       "      <td>SOLON BORGES</td>\n",
       "      <td>469</td>\n",
       "      <td>400</td>\n",
       "      <td>69</td>\n",
       "      <td>0.147122</td>\n",
       "    </tr>\n",
       "    <tr>\n",
       "      <th>76</th>\n",
       "      <td>MÁRIO CYPRESTE</td>\n",
       "      <td>371</td>\n",
       "      <td>317</td>\n",
       "      <td>54</td>\n",
       "      <td>0.145553</td>\n",
       "    </tr>\n",
       "    <tr>\n",
       "      <th>77</th>\n",
       "      <td>AEROPORTO</td>\n",
       "      <td>8</td>\n",
       "      <td>7</td>\n",
       "      <td>1</td>\n",
       "      <td>0.125000</td>\n",
       "    </tr>\n",
       "    <tr>\n",
       "      <th>78</th>\n",
       "      <td>ILHA DO BOI</td>\n",
       "      <td>35</td>\n",
       "      <td>32</td>\n",
       "      <td>3</td>\n",
       "      <td>0.085714</td>\n",
       "    </tr>\n",
       "  </tbody>\n",
       "</table>\n",
       "</div>"
      ],
      "text/plain": [
       "      Neighbourhood  Total  Show_up  No_show_up  No_show_up_%\n",
       "69       VILA RUBIM    851      710         141      0.165687\n",
       "70        DO QUADRO    849      709         140      0.164900\n",
       "71  JARDIM DA PENHA   3877     3246         631      0.162755\n",
       "72     SANTA MARTHA   3131     2635         496      0.158416\n",
       "73        DO CABRAL    560      472          88      0.157143\n",
       "74       DE LOURDES    305      258          47      0.154098\n",
       "75     SOLON BORGES    469      400          69      0.147122\n",
       "76   MÁRIO CYPRESTE    371      317          54      0.145553\n",
       "77        AEROPORTO      8        7           1      0.125000\n",
       "78      ILHA DO BOI     35       32           3      0.085714"
      ]
     },
     "execution_count": 15,
     "metadata": {},
     "output_type": "execute_result"
    }
   ],
   "source": [
    "df_neighbourhood.tail(10)"
   ]
  },
  {
   "cell_type": "code",
   "execution_count": 16,
   "metadata": {},
   "outputs": [
    {
     "data": {
      "text/plain": [
       "Text(0, 0.5, 'Percentage')"
      ]
     },
     "execution_count": 16,
     "metadata": {},
     "output_type": "execute_result"
    },
    {
     "data": {
      "image/png": "[encoded data removed]",
      "text/plain": [
       "<Figure size 842.4x595.44 with 1 Axes>"
      ]
     },
     "metadata": {},
     "output_type": "display_data"
    }
   ],
   "source": [
    "ind = np.arange(len(df_neighbourhood))\n",
    "plt.bar(ind, df_neighbourhood['No_show_up_%'])\n",
    "plt.title('Total percentage of patients who did not show up on their appointment date in each neighbourhood')\n",
    "plt.xlabel('Number of Neighbourhood')\n",
    "plt.ylabel('Percentage')"
   ]
  },
  {
   "cell_type": "markdown",
   "metadata": {},
   "source": [
    "As we can see, the chart is sorted by percentage and by looking at tables above the figure, it is easy to see which neighbourhoods have the most or the least No_show percentage.The only neighbourhood that less than 10 percent of patients did not show up was in 'ILHA DO BOI'. On the other hand, there are 4 neighbourhoods that 1 out of 4 patient miss the appointment. "
   ]
  },
  {
   "cell_type": "markdown",
   "metadata": {},
   "source": [
    "### Does gender play an important role?"
   ]
  },
  {
   "cell_type": "markdown",
   "metadata": {},
   "source": [
    "Another question which can pop up on our mind is whether men miss the appointment or women? in this dataset, the number of female patients are more than double the number of male ones,but interestingly, both groups missed a fifth of their appointment."
   ]
  },
  {
   "cell_type": "code",
   "execution_count": 17,
   "metadata": {},
   "outputs": [
    {
     "data": {
      "text/html": [
       "<div>\n",
       "<style scoped>\n",
       "    .dataframe tbody tr th:only-of-type {\n",
       "        vertical-align: middle;\n",
       "    }\n",
       "\n",
       "    .dataframe tbody tr th {\n",
       "        vertical-align: top;\n",
       "    }\n",
       "\n",
       "    .dataframe thead th {\n",
       "        text-align: right;\n",
       "    }\n",
       "</style>\n",
       "<table border=\"1\" class=\"dataframe\">\n",
       "  <thead>\n",
       "    <tr style=\"text-align: right;\">\n",
       "      <th></th>\n",
       "      <th>Total</th>\n",
       "      <th>Show_up</th>\n",
       "      <th>No_show_up</th>\n",
       "      <th>No_show_up_%</th>\n",
       "    </tr>\n",
       "    <tr>\n",
       "      <th>Gender</th>\n",
       "      <th></th>\n",
       "      <th></th>\n",
       "      <th></th>\n",
       "      <th></th>\n",
       "    </tr>\n",
       "  </thead>\n",
       "  <tbody>\n",
       "    <tr>\n",
       "      <th>F</th>\n",
       "      <td>71840</td>\n",
       "      <td>57246</td>\n",
       "      <td>14594</td>\n",
       "      <td>0.203146</td>\n",
       "    </tr>\n",
       "    <tr>\n",
       "      <th>M</th>\n",
       "      <td>38687</td>\n",
       "      <td>30962</td>\n",
       "      <td>7725</td>\n",
       "      <td>0.199679</td>\n",
       "    </tr>\n",
       "  </tbody>\n",
       "</table>\n",
       "</div>"
      ],
      "text/plain": [
       "        Total  Show_up  No_show_up  No_show_up_%\n",
       "Gender                                          \n",
       "F       71840    57246       14594      0.203146\n",
       "M       38687    30962        7725      0.199679"
      ]
     },
     "execution_count": 17,
     "metadata": {},
     "output_type": "execute_result"
    }
   ],
   "source": [
    "df_gender = no_show_up('Gender')\n",
    "df_gender"
   ]
  },
  {
   "cell_type": "code",
   "execution_count": 18,
   "metadata": {},
   "outputs": [
    {
     "data": {
      "text/plain": [
       "Text(0, 0.5, 'Percentage')"
      ]
     },
     "execution_count": 18,
     "metadata": {},
     "output_type": "execute_result"
    },
    {
     "data": {
      "image/png": "[encoded data removed]",
      "text/plain": [
       "<Figure size 360x360 with 1 Axes>"
      ]
     },
     "metadata": {},
     "output_type": "display_data"
    }
   ],
   "source": [
    "plt.figure(figsize=(5,5))\n",
    "plt.bar(df_gender.index, df_gender['No_show_up_%'], width = 0.5, color= 'r')\n",
    "plt.title('Total percentage of patients who did not show up on their appointment date based on gender')\n",
    "plt.xlabel('Gender')\n",
    "plt.ylabel('Percentage')"
   ]
  },
  {
   "cell_type": "markdown",
   "metadata": {},
   "source": [
    "### Does the plus point given to patients(scholarship or sms notification) have any correlation with appointments?"
   ]
  },
  {
   "cell_type": "code",
   "execution_count": 16,
   "metadata": {},
   "outputs": [
    {
     "data": {
      "text/html": [
       "<div>\n",
       "<style scoped>\n",
       "    .dataframe tbody tr th:only-of-type {\n",
       "        vertical-align: middle;\n",
       "    }\n",
       "\n",
       "    .dataframe tbody tr th {\n",
       "        vertical-align: top;\n",
       "    }\n",
       "\n",
       "    .dataframe thead th {\n",
       "        text-align: right;\n",
       "    }\n",
       "</style>\n",
       "<table border=\"1\" class=\"dataframe\">\n",
       "  <thead>\n",
       "    <tr style=\"text-align: right;\">\n",
       "      <th></th>\n",
       "      <th>Total</th>\n",
       "      <th>Show_up</th>\n",
       "      <th>No_show_up</th>\n",
       "      <th>No_show_up_%</th>\n",
       "    </tr>\n",
       "    <tr>\n",
       "      <th>Scholarship</th>\n",
       "      <th></th>\n",
       "      <th></th>\n",
       "      <th></th>\n",
       "      <th></th>\n",
       "    </tr>\n",
       "  </thead>\n",
       "  <tbody>\n",
       "    <tr>\n",
       "      <th>0</th>\n",
       "      <td>99666</td>\n",
       "      <td>79925</td>\n",
       "      <td>19741</td>\n",
       "      <td>0.198072</td>\n",
       "    </tr>\n",
       "    <tr>\n",
       "      <th>1</th>\n",
       "      <td>10861</td>\n",
       "      <td>8283</td>\n",
       "      <td>2578</td>\n",
       "      <td>0.237363</td>\n",
       "    </tr>\n",
       "  </tbody>\n",
       "</table>\n",
       "</div>"
      ],
      "text/plain": [
       "             Total  Show_up  No_show_up  No_show_up_%\n",
       "Scholarship                                          \n",
       "0            99666    79925       19741      0.198072\n",
       "1            10861     8283        2578      0.237363"
      ]
     },
     "execution_count": 16,
     "metadata": {},
     "output_type": "execute_result"
    }
   ],
   "source": [
    "df_scholarship = no_show_up('Scholarship')\n",
    "df_scholarship"
   ]
  },
  {
   "cell_type": "code",
   "execution_count": 17,
   "metadata": {},
   "outputs": [
    {
     "data": {
      "text/html": [
       "<div>\n",
       "<style scoped>\n",
       "    .dataframe tbody tr th:only-of-type {\n",
       "        vertical-align: middle;\n",
       "    }\n",
       "\n",
       "    .dataframe tbody tr th {\n",
       "        vertical-align: top;\n",
       "    }\n",
       "\n",
       "    .dataframe thead th {\n",
       "        text-align: right;\n",
       "    }\n",
       "</style>\n",
       "<table border=\"1\" class=\"dataframe\">\n",
       "  <thead>\n",
       "    <tr style=\"text-align: right;\">\n",
       "      <th></th>\n",
       "      <th>Total</th>\n",
       "      <th>Show_up</th>\n",
       "      <th>No_show_up</th>\n",
       "      <th>No_show_up_%</th>\n",
       "    </tr>\n",
       "    <tr>\n",
       "      <th>SMS_received</th>\n",
       "      <th></th>\n",
       "      <th></th>\n",
       "      <th></th>\n",
       "      <th></th>\n",
       "    </tr>\n",
       "  </thead>\n",
       "  <tbody>\n",
       "    <tr>\n",
       "      <th>0</th>\n",
       "      <td>75045</td>\n",
       "      <td>62510</td>\n",
       "      <td>12535</td>\n",
       "      <td>0.167033</td>\n",
       "    </tr>\n",
       "    <tr>\n",
       "      <th>1</th>\n",
       "      <td>35482</td>\n",
       "      <td>25698</td>\n",
       "      <td>9784</td>\n",
       "      <td>0.275745</td>\n",
       "    </tr>\n",
       "  </tbody>\n",
       "</table>\n",
       "</div>"
      ],
      "text/plain": [
       "              Total  Show_up  No_show_up  No_show_up_%\n",
       "SMS_received                                          \n",
       "0             75045    62510       12535      0.167033\n",
       "1             35482    25698        9784      0.275745"
      ]
     },
     "execution_count": 17,
     "metadata": {},
     "output_type": "execute_result"
    }
   ],
   "source": [
    "df_sms = no_show_up('SMS_received')\n",
    "df_sms "
   ]
  },
  {
   "cell_type": "code",
   "execution_count": 18,
   "metadata": {},
   "outputs": [
    {
     "data": {
      "text/plain": [
       "<matplotlib.legend.Legend at 0x1ca075e0e48>"
      ]
     },
     "execution_count": 18,
     "metadata": {},
     "output_type": "execute_result"
    },
    {
     "data": {
      "image/png": "[encoded data removed]",
      "text/plain": [
       "<Figure size 504x504 with 1 Axes>"
      ]
     },
     "metadata": {},
     "output_type": "display_data"
    }
   ],
   "source": [
    "plt.figure(figsize=(7,7))\n",
    "width = 0.35\n",
    "plt.bar(df_scholarship.index, df_scholarship['No_show_up_%'],width = width, color = 'r', label = 'Scholarship' )\n",
    "plt.bar(df_sms.index + width, df_sms['No_show_up_%'],width = width, color = 'g', label = 'SMS_received' )\n",
    "plt.title('the proportion of patients who did not show up on the appointment date')\n",
    "plt.xticks([0.2,1.2], ['without option', 'with option'])\n",
    "plt.xlabel('whether show up or not')\n",
    "plt.ylabel('percentage')\n",
    "plt.legend()"
   ]
  },
  {
   "cell_type": "markdown",
   "metadata": {},
   "source": [
    "As we can see, in both cases when patients are notified by SMS or grant a scholarship for health issue, the overall rate of missing the appointment increase, which is odd!!. more than a quarter of all patients who have received sms actually missed the appointment while those who did not receive one show up more(around 15 percent of them did not show up)"
   ]
  },
  {
   "cell_type": "code",
   "execution_count": 22,
   "metadata": {},
   "outputs": [
    {
     "data": {
      "text/html": [
       "<div>\n",
       "<style scoped>\n",
       "    .dataframe tbody tr th:only-of-type {\n",
       "        vertical-align: middle;\n",
       "    }\n",
       "\n",
       "    .dataframe tbody tr th {\n",
       "        vertical-align: top;\n",
       "    }\n",
       "\n",
       "    .dataframe thead th {\n",
       "        text-align: right;\n",
       "    }\n",
       "</style>\n",
       "<table border=\"1\" class=\"dataframe\">\n",
       "  <thead>\n",
       "    <tr style=\"text-align: right;\">\n",
       "      <th></th>\n",
       "      <th>Total</th>\n",
       "      <th>Show_up</th>\n",
       "      <th>No_show_up</th>\n",
       "      <th>No_show_up_%</th>\n",
       "    </tr>\n",
       "    <tr>\n",
       "      <th>plus</th>\n",
       "      <th></th>\n",
       "      <th></th>\n",
       "      <th></th>\n",
       "      <th></th>\n",
       "    </tr>\n",
       "  </thead>\n",
       "  <tbody>\n",
       "    <tr>\n",
       "      <th>0</th>\n",
       "      <td>67689</td>\n",
       "      <td>56548</td>\n",
       "      <td>11141</td>\n",
       "      <td>0.164591</td>\n",
       "    </tr>\n",
       "    <tr>\n",
       "      <th>1</th>\n",
       "      <td>39333</td>\n",
       "      <td>29339</td>\n",
       "      <td>9994</td>\n",
       "      <td>0.254087</td>\n",
       "    </tr>\n",
       "    <tr>\n",
       "      <th>2</th>\n",
       "      <td>3505</td>\n",
       "      <td>2321</td>\n",
       "      <td>1184</td>\n",
       "      <td>0.337803</td>\n",
       "    </tr>\n",
       "  </tbody>\n",
       "</table>\n",
       "</div>"
      ],
      "text/plain": [
       "      Total  Show_up  No_show_up  No_show_up_%\n",
       "plus                                          \n",
       "0     67689    56548       11141      0.164591\n",
       "1     39333    29339        9994      0.254087\n",
       "2      3505     2321        1184      0.337803"
      ]
     },
     "execution_count": 22,
     "metadata": {},
     "output_type": "execute_result"
    }
   ],
   "source": [
    "df['plus'] = 0\n",
    "df['plus'] = df[['Scholarship','SMS_received']].sum(axis = 1)\n",
    "df_plus = no_show_up('plus')\n",
    "df_plus"
   ]
  },
  {
   "cell_type": "markdown",
   "metadata": {},
   "source": [
    "after the interesting result calculated above, we decided to see how patients who have both plus points act. so, there is a table with 3 columns above showing patients who have not received any (0),patients who have either received sms or scholarship (1), and patients who had both ones (2)."
   ]
  },
  {
   "cell_type": "code",
   "execution_count": 23,
   "metadata": {},
   "outputs": [
    {
     "data": {
      "text/plain": [
       "Text(0, 0.5, 'percentage')"
      ]
     },
     "execution_count": 23,
     "metadata": {},
     "output_type": "execute_result"
    },
    {
     "data": {
      "image/png": "[encoded data removed]",
      "text/plain": [
       "<Figure size 504x504 with 1 Axes>"
      ]
     },
     "metadata": {},
     "output_type": "display_data"
    }
   ],
   "source": [
    "plt.figure(figsize=(7,7))\n",
    "width = 0.6\n",
    "plt.bar(df_plus.index, df_plus['No_show_up_%'],width = width, color = 'c' )\n",
    "plt.title('patients who use benefit of sms notification or scholarship ')\n",
    "plt.xlabel('Number of benefits')\n",
    "plt.ylabel('percentage')"
   ]
  },
  {
   "cell_type": "markdown",
   "metadata": {},
   "source": [
    "Interestingly, the more options are given to patients, the more did not show up on appointment date. the ones who have received a sms and had familia bolsa scholarship seems to be more confident to not show up on the scheduled date."
   ]
  },
  {
   "cell_type": "markdown",
   "metadata": {},
   "source": [
    "### Does the number of inabilities can play an important role?"
   ]
  },
  {
   "cell_type": "markdown",
   "metadata": {},
   "source": [
    "in this dataset, there are some columns with basic health problems of patients. we have categorise them as inability to see whether any type of health issue can be correlated to missing appointment or not."
   ]
  },
  {
   "cell_type": "code",
   "execution_count": 62,
   "metadata": {},
   "outputs": [
    {
     "data": {
      "text/html": [
       "<div>\n",
       "<style scoped>\n",
       "    .dataframe tbody tr th:only-of-type {\n",
       "        vertical-align: middle;\n",
       "    }\n",
       "\n",
       "    .dataframe tbody tr th {\n",
       "        vertical-align: top;\n",
       "    }\n",
       "\n",
       "    .dataframe thead th {\n",
       "        text-align: right;\n",
       "    }\n",
       "</style>\n",
       "<table border=\"1\" class=\"dataframe\">\n",
       "  <thead>\n",
       "    <tr style=\"text-align: right;\">\n",
       "      <th></th>\n",
       "      <th>Total</th>\n",
       "      <th>Show_up</th>\n",
       "      <th>No_show_up</th>\n",
       "      <th>No_show_up_%</th>\n",
       "    </tr>\n",
       "    <tr>\n",
       "      <th>Hipertension</th>\n",
       "      <th></th>\n",
       "      <th></th>\n",
       "      <th></th>\n",
       "      <th></th>\n",
       "    </tr>\n",
       "  </thead>\n",
       "  <tbody>\n",
       "    <tr>\n",
       "      <th>0</th>\n",
       "      <td>88726</td>\n",
       "      <td>70179</td>\n",
       "      <td>18547</td>\n",
       "      <td>0.209037</td>\n",
       "    </tr>\n",
       "    <tr>\n",
       "      <th>1</th>\n",
       "      <td>21801</td>\n",
       "      <td>18029</td>\n",
       "      <td>3772</td>\n",
       "      <td>0.173020</td>\n",
       "    </tr>\n",
       "  </tbody>\n",
       "</table>\n",
       "</div>"
      ],
      "text/plain": [
       "              Total  Show_up  No_show_up  No_show_up_%\n",
       "Hipertension                                          \n",
       "0             88726    70179       18547      0.209037\n",
       "1             21801    18029        3772      0.173020"
      ]
     },
     "execution_count": 62,
     "metadata": {},
     "output_type": "execute_result"
    }
   ],
   "source": [
    "df_hipertension = no_show_up('Hipertension')\n",
    "df_hipertension"
   ]
  },
  {
   "cell_type": "code",
   "execution_count": 63,
   "metadata": {},
   "outputs": [
    {
     "data": {
      "text/html": [
       "<div>\n",
       "<style scoped>\n",
       "    .dataframe tbody tr th:only-of-type {\n",
       "        vertical-align: middle;\n",
       "    }\n",
       "\n",
       "    .dataframe tbody tr th {\n",
       "        vertical-align: top;\n",
       "    }\n",
       "\n",
       "    .dataframe thead th {\n",
       "        text-align: right;\n",
       "    }\n",
       "</style>\n",
       "<table border=\"1\" class=\"dataframe\">\n",
       "  <thead>\n",
       "    <tr style=\"text-align: right;\">\n",
       "      <th></th>\n",
       "      <th>Total</th>\n",
       "      <th>Show_up</th>\n",
       "      <th>No_show_up</th>\n",
       "      <th>No_show_up_%</th>\n",
       "    </tr>\n",
       "    <tr>\n",
       "      <th>Diabetes</th>\n",
       "      <th></th>\n",
       "      <th></th>\n",
       "      <th></th>\n",
       "      <th></th>\n",
       "    </tr>\n",
       "  </thead>\n",
       "  <tbody>\n",
       "    <tr>\n",
       "      <th>0</th>\n",
       "      <td>102584</td>\n",
       "      <td>81695</td>\n",
       "      <td>20889</td>\n",
       "      <td>0.203628</td>\n",
       "    </tr>\n",
       "    <tr>\n",
       "      <th>1</th>\n",
       "      <td>7943</td>\n",
       "      <td>6513</td>\n",
       "      <td>1430</td>\n",
       "      <td>0.180033</td>\n",
       "    </tr>\n",
       "  </tbody>\n",
       "</table>\n",
       "</div>"
      ],
      "text/plain": [
       "           Total  Show_up  No_show_up  No_show_up_%\n",
       "Diabetes                                           \n",
       "0         102584    81695       20889      0.203628\n",
       "1           7943     6513        1430      0.180033"
      ]
     },
     "execution_count": 63,
     "metadata": {},
     "output_type": "execute_result"
    }
   ],
   "source": [
    "df_diabetes = no_show_up('Diabetes')\n",
    "df_diabetes"
   ]
  },
  {
   "cell_type": "code",
   "execution_count": 26,
   "metadata": {},
   "outputs": [
    {
     "data": {
      "text/html": [
       "<div>\n",
       "<style scoped>\n",
       "    .dataframe tbody tr th:only-of-type {\n",
       "        vertical-align: middle;\n",
       "    }\n",
       "\n",
       "    .dataframe tbody tr th {\n",
       "        vertical-align: top;\n",
       "    }\n",
       "\n",
       "    .dataframe thead th {\n",
       "        text-align: right;\n",
       "    }\n",
       "</style>\n",
       "<table border=\"1\" class=\"dataframe\">\n",
       "  <thead>\n",
       "    <tr style=\"text-align: right;\">\n",
       "      <th></th>\n",
       "      <th>Total</th>\n",
       "      <th>Show_up</th>\n",
       "      <th>No_show_up</th>\n",
       "      <th>No_show_up_%</th>\n",
       "    </tr>\n",
       "    <tr>\n",
       "      <th>Alcoholism</th>\n",
       "      <th></th>\n",
       "      <th></th>\n",
       "      <th></th>\n",
       "      <th></th>\n",
       "    </tr>\n",
       "  </thead>\n",
       "  <tbody>\n",
       "    <tr>\n",
       "      <th>0</th>\n",
       "      <td>107167</td>\n",
       "      <td>85525</td>\n",
       "      <td>21642</td>\n",
       "      <td>0.201946</td>\n",
       "    </tr>\n",
       "    <tr>\n",
       "      <th>1</th>\n",
       "      <td>3360</td>\n",
       "      <td>2683</td>\n",
       "      <td>677</td>\n",
       "      <td>0.201488</td>\n",
       "    </tr>\n",
       "  </tbody>\n",
       "</table>\n",
       "</div>"
      ],
      "text/plain": [
       "             Total  Show_up  No_show_up  No_show_up_%\n",
       "Alcoholism                                           \n",
       "0           107167    85525       21642      0.201946\n",
       "1             3360     2683         677      0.201488"
      ]
     },
     "execution_count": 26,
     "metadata": {},
     "output_type": "execute_result"
    }
   ],
   "source": [
    "df_alcoholism = no_show_up('Alcoholism')\n",
    "df_alcoholism "
   ]
  },
  {
   "cell_type": "code",
   "execution_count": 27,
   "metadata": {},
   "outputs": [
    {
     "data": {
      "text/html": [
       "<div>\n",
       "<style scoped>\n",
       "    .dataframe tbody tr th:only-of-type {\n",
       "        vertical-align: middle;\n",
       "    }\n",
       "\n",
       "    .dataframe tbody tr th {\n",
       "        vertical-align: top;\n",
       "    }\n",
       "\n",
       "    .dataframe thead th {\n",
       "        text-align: right;\n",
       "    }\n",
       "</style>\n",
       "<table border=\"1\" class=\"dataframe\">\n",
       "  <thead>\n",
       "    <tr style=\"text-align: right;\">\n",
       "      <th></th>\n",
       "      <th>Total</th>\n",
       "      <th>Show_up</th>\n",
       "      <th>No_show_up</th>\n",
       "      <th>No_show_up_%</th>\n",
       "    </tr>\n",
       "    <tr>\n",
       "      <th>Handicap</th>\n",
       "      <th></th>\n",
       "      <th></th>\n",
       "      <th></th>\n",
       "      <th></th>\n",
       "    </tr>\n",
       "  </thead>\n",
       "  <tbody>\n",
       "    <tr>\n",
       "      <th>0</th>\n",
       "      <td>108286</td>\n",
       "      <td>86374</td>\n",
       "      <td>21912</td>\n",
       "      <td>0.202353</td>\n",
       "    </tr>\n",
       "    <tr>\n",
       "      <th>1</th>\n",
       "      <td>2241</td>\n",
       "      <td>1834</td>\n",
       "      <td>407</td>\n",
       "      <td>0.181615</td>\n",
       "    </tr>\n",
       "  </tbody>\n",
       "</table>\n",
       "</div>"
      ],
      "text/plain": [
       "           Total  Show_up  No_show_up  No_show_up_%\n",
       "Handicap                                           \n",
       "0         108286    86374       21912      0.202353\n",
       "1           2241     1834         407      0.181615"
      ]
     },
     "execution_count": 27,
     "metadata": {},
     "output_type": "execute_result"
    }
   ],
   "source": [
    "df_handicap = no_show_up('Handicap')\n",
    "df_handicap"
   ]
  },
  {
   "cell_type": "code",
   "execution_count": 74,
   "metadata": {},
   "outputs": [
    {
     "data": {
      "text/plain": [
       "<matplotlib.legend.Legend at 0x1f4f3463ef0>"
      ]
     },
     "execution_count": 74,
     "metadata": {},
     "output_type": "execute_result"
    },
    {
     "data": {
      "image/png": "[encoded data removed]",
      "text/plain": [
       "<Figure size 720x432 with 1 Axes>"
      ]
     },
     "metadata": {},
     "output_type": "display_data"
    }
   ],
   "source": [
    "plt.figure(figsize=(10,6))\n",
    "width = 0.2\n",
    "plt.bar(df_hipertension.index, df_hipertension['No_show_up_%'],width = width, color = 'bisque', label = 'Hipertension' )\n",
    "plt.bar(df_diabetes.index + width, df_diabetes['No_show_up_%'],width = width, color = 'sandybrown', label = 'Diabetes' )\n",
    "plt.bar(df_alcoholism.index + 2*width , df_alcoholism['No_show_up_%'],width = width, color = 'rosybrown', label = 'Alcoholism' )\n",
    "plt.bar(df_handicap.index + 3*width, df_handicap['No_show_up_%'],width = width, color = 'firebrick', label = 'Handicap' )\n",
    "plt.title('the proportion of patients who did not show up on the appointment date')\n",
    "plt.xticks([0.3,1.3], ['did not have any', 'had the option'])\n",
    "plt.xlabel('Inability')\n",
    "plt.ylabel('percentage')\n",
    "plt.legend(loc = 'lower right')"
   ]
  },
  {
   "cell_type": "markdown",
   "metadata": {},
   "source": [
    "there is not any significant differences when a patient ,for example, has diabetes or not on apperance on the appointment date. but overally, the ones who had any problem, ranging from alocholism to any handicap mentioned in the table showed up a bit more than more healthy patients on appointments.\n",
    "\n",
    "Now, let's see the effrct of more than one inability at the same time. a patient can be diabetes and alcoholic and want to visit a doctor. so is he/she is going to show up more o the more healthy ones?"
   ]
  },
  {
   "cell_type": "code",
   "execution_count": 28,
   "metadata": {},
   "outputs": [
    {
     "data": {
      "text/html": [
       "<div>\n",
       "<style scoped>\n",
       "    .dataframe tbody tr th:only-of-type {\n",
       "        vertical-align: middle;\n",
       "    }\n",
       "\n",
       "    .dataframe tbody tr th {\n",
       "        vertical-align: top;\n",
       "    }\n",
       "\n",
       "    .dataframe thead th {\n",
       "        text-align: right;\n",
       "    }\n",
       "</style>\n",
       "<table border=\"1\" class=\"dataframe\">\n",
       "  <thead>\n",
       "    <tr style=\"text-align: right;\">\n",
       "      <th></th>\n",
       "      <th>Total</th>\n",
       "      <th>Show_up</th>\n",
       "      <th>No_show_up</th>\n",
       "      <th>No_show_up_%</th>\n",
       "    </tr>\n",
       "    <tr>\n",
       "      <th>Inability_degree</th>\n",
       "      <th></th>\n",
       "      <th></th>\n",
       "      <th></th>\n",
       "      <th></th>\n",
       "    </tr>\n",
       "  </thead>\n",
       "  <tbody>\n",
       "    <tr>\n",
       "      <th>0</th>\n",
       "      <td>84115</td>\n",
       "      <td>66512</td>\n",
       "      <td>17603</td>\n",
       "      <td>0.209273</td>\n",
       "    </tr>\n",
       "    <tr>\n",
       "      <th>1</th>\n",
       "      <td>18123</td>\n",
       "      <td>14874</td>\n",
       "      <td>3249</td>\n",
       "      <td>0.179275</td>\n",
       "    </tr>\n",
       "    <tr>\n",
       "      <th>2</th>\n",
       "      <td>7658</td>\n",
       "      <td>6290</td>\n",
       "      <td>1368</td>\n",
       "      <td>0.178637</td>\n",
       "    </tr>\n",
       "    <tr>\n",
       "      <th>3</th>\n",
       "      <td>618</td>\n",
       "      <td>523</td>\n",
       "      <td>95</td>\n",
       "      <td>0.153722</td>\n",
       "    </tr>\n",
       "    <tr>\n",
       "      <th>4</th>\n",
       "      <td>13</td>\n",
       "      <td>9</td>\n",
       "      <td>4</td>\n",
       "      <td>0.307692</td>\n",
       "    </tr>\n",
       "  </tbody>\n",
       "</table>\n",
       "</div>"
      ],
      "text/plain": [
       "                  Total  Show_up  No_show_up  No_show_up_%\n",
       "Inability_degree                                          \n",
       "0                 84115    66512       17603      0.209273\n",
       "1                 18123    14874        3249      0.179275\n",
       "2                  7658     6290        1368      0.178637\n",
       "3                   618      523          95      0.153722\n",
       "4                    13        9           4      0.307692"
      ]
     },
     "execution_count": 28,
     "metadata": {},
     "output_type": "execute_result"
    }
   ],
   "source": [
    "df['Inability_degree'] = 0  \n",
    "#group the inabilities\n",
    "df['Inability_degree'] = df[['Hipertension','Diabetes','Alcoholism','Handicap' ]].sum(axis = 1)\n",
    "df_inability_degree = no_show_up('Inability_degree')\n",
    "df_inability_degree"
   ]
  },
  {
   "cell_type": "markdown",
   "metadata": {},
   "source": [
    "Now, let's see how patients who have multiple inability behave on appointment date."
   ]
  },
  {
   "cell_type": "code",
   "execution_count": 29,
   "metadata": {},
   "outputs": [
    {
     "data": {
      "text/plain": [
       "<matplotlib.axes._subplots.AxesSubplot at 0x1f4e5003ac8>"
      ]
     },
     "execution_count": 29,
     "metadata": {},
     "output_type": "execute_result"
    },
    {
     "data": {
      "image/png": "[encoded data removed]",
      "text/plain": [
       "<Figure size 720x360 with 1 Axes>"
      ]
     },
     "metadata": {},
     "output_type": "display_data"
    }
   ],
   "source": [
    "plt.figure(figsize=(10,5))\n",
    "sns.lineplot(x= df_inability_degree.index, y= df_inability_degree['No_show_up_%'], color=\"coral\",linewidth=4, data = df_inability_degree)"
   ]
  },
  {
   "cell_type": "markdown",
   "metadata": {},
   "source": [
    "with the exception of ones who have all the problem at the same time(group number 4) who are just 13 among more than 100k, it seems that the more health problem patients have, the less appointment date will be missed by them."
   ]
  },
  {
   "cell_type": "markdown",
   "metadata": {},
   "source": [
    "### Which age groups miss more appointment date?"
   ]
  },
  {
   "cell_type": "markdown",
   "metadata": {},
   "source": [
    "so, in this question, the aim is to see whether there is any relationship between age and not showing up on date or not. so we group our patients based on percentile given below into 4 different groups,namely child, young adults, middle aged and old ones. now it is easier to find any pattern among age groups."
   ]
  },
  {
   "cell_type": "code",
   "execution_count": 30,
   "metadata": {},
   "outputs": [
    {
     "data": {
      "text/plain": [
       "count    110527.000000\n",
       "mean         37.088883\n",
       "std          23.110190\n",
       "min           0.000000\n",
       "25%          18.000000\n",
       "50%          37.000000\n",
       "75%          55.000000\n",
       "max         115.000000\n",
       "Name: Age, dtype: float64"
      ]
     },
     "execution_count": 30,
     "metadata": {},
     "output_type": "execute_result"
    }
   ],
   "source": [
    "# let's see the age percentile of the dataset\n",
    "df['Age'].describe()"
   ]
  },
  {
   "cell_type": "code",
   "execution_count": 19,
   "metadata": {},
   "outputs": [
    {
     "data": {
      "text/html": [
       "<div>\n",
       "<style scoped>\n",
       "    .dataframe tbody tr th:only-of-type {\n",
       "        vertical-align: middle;\n",
       "    }\n",
       "\n",
       "    .dataframe tbody tr th {\n",
       "        vertical-align: top;\n",
       "    }\n",
       "\n",
       "    .dataframe thead th {\n",
       "        text-align: right;\n",
       "    }\n",
       "</style>\n",
       "<table border=\"1\" class=\"dataframe\">\n",
       "  <thead>\n",
       "    <tr style=\"text-align: right;\">\n",
       "      <th></th>\n",
       "      <th>Age</th>\n",
       "      <th>Age_groups</th>\n",
       "      <th>No_show</th>\n",
       "    </tr>\n",
       "  </thead>\n",
       "  <tbody>\n",
       "    <tr>\n",
       "      <th>0</th>\n",
       "      <td>62</td>\n",
       "      <td>old</td>\n",
       "      <td>No</td>\n",
       "    </tr>\n",
       "    <tr>\n",
       "      <th>1</th>\n",
       "      <td>56</td>\n",
       "      <td>old</td>\n",
       "      <td>No</td>\n",
       "    </tr>\n",
       "    <tr>\n",
       "      <th>2</th>\n",
       "      <td>62</td>\n",
       "      <td>old</td>\n",
       "      <td>No</td>\n",
       "    </tr>\n",
       "    <tr>\n",
       "      <th>3</th>\n",
       "      <td>8</td>\n",
       "      <td>child</td>\n",
       "      <td>No</td>\n",
       "    </tr>\n",
       "    <tr>\n",
       "      <th>4</th>\n",
       "      <td>56</td>\n",
       "      <td>old</td>\n",
       "      <td>No</td>\n",
       "    </tr>\n",
       "  </tbody>\n",
       "</table>\n",
       "</div>"
      ],
      "text/plain": [
       "   Age Age_groups No_show\n",
       "0   62        old      No\n",
       "1   56        old      No\n",
       "2   62        old      No\n",
       "3    8      child      No\n",
       "4   56        old      No"
      ]
     },
     "execution_count": 19,
     "metadata": {},
     "output_type": "execute_result"
    }
   ],
   "source": [
    "# Bin edges that will be used to \"cut\" the data into groups\n",
    "bin_edges = [0 ,18 ,37,55, 115]\n",
    "#labels for four age group\n",
    "bin_names = ['child','young_adult','middle_aged','old']\n",
    "#age group column\n",
    "df['Age_groups'] = pd.cut(df['Age'], bin_edges, labels = bin_names)\n",
    "\n",
    "# a part of the table\n",
    "df[['Age', 'Age_groups','No_show']].head()"
   ]
  },
  {
   "cell_type": "code",
   "execution_count": 20,
   "metadata": {},
   "outputs": [
    {
     "data": {
      "text/html": [
       "<div>\n",
       "<style scoped>\n",
       "    .dataframe tbody tr th:only-of-type {\n",
       "        vertical-align: middle;\n",
       "    }\n",
       "\n",
       "    .dataframe tbody tr th {\n",
       "        vertical-align: top;\n",
       "    }\n",
       "\n",
       "    .dataframe thead th {\n",
       "        text-align: right;\n",
       "    }\n",
       "</style>\n",
       "<table border=\"1\" class=\"dataframe\">\n",
       "  <thead>\n",
       "    <tr style=\"text-align: right;\">\n",
       "      <th></th>\n",
       "      <th>Total</th>\n",
       "      <th>Show_up</th>\n",
       "      <th>No_show_up</th>\n",
       "      <th>No_show_up_%</th>\n",
       "    </tr>\n",
       "    <tr>\n",
       "      <th>Age_groups</th>\n",
       "      <th></th>\n",
       "      <th></th>\n",
       "      <th></th>\n",
       "      <th></th>\n",
       "    </tr>\n",
       "  </thead>\n",
       "  <tbody>\n",
       "    <tr>\n",
       "      <th>child</th>\n",
       "      <td>25327</td>\n",
       "      <td>19619</td>\n",
       "      <td>5708</td>\n",
       "      <td>0.225372</td>\n",
       "    </tr>\n",
       "    <tr>\n",
       "      <th>young_adult</th>\n",
       "      <td>27250</td>\n",
       "      <td>20836</td>\n",
       "      <td>6414</td>\n",
       "      <td>0.235376</td>\n",
       "    </tr>\n",
       "    <tr>\n",
       "      <th>middle_aged</th>\n",
       "      <td>26906</td>\n",
       "      <td>21651</td>\n",
       "      <td>5255</td>\n",
       "      <td>0.195310</td>\n",
       "    </tr>\n",
       "    <tr>\n",
       "      <th>old</th>\n",
       "      <td>27504</td>\n",
       "      <td>23201</td>\n",
       "      <td>4303</td>\n",
       "      <td>0.156450</td>\n",
       "    </tr>\n",
       "  </tbody>\n",
       "</table>\n",
       "</div>"
      ],
      "text/plain": [
       "             Total  Show_up  No_show_up  No_show_up_%\n",
       "Age_groups                                           \n",
       "child        25327    19619        5708      0.225372\n",
       "young_adult  27250    20836        6414      0.235376\n",
       "middle_aged  26906    21651        5255      0.195310\n",
       "old          27504    23201        4303      0.156450"
      ]
     },
     "execution_count": 20,
     "metadata": {},
     "output_type": "execute_result"
    }
   ],
   "source": [
    "df_age_groups = no_show_up('Age_groups')\n",
    "df_age_groups"
   ]
  },
  {
   "cell_type": "code",
   "execution_count": 33,
   "metadata": {},
   "outputs": [
    {
     "data": {
      "text/plain": [
       "Text(0, 0.5, 'Percentage')"
      ]
     },
     "execution_count": 33,
     "metadata": {},
     "output_type": "execute_result"
    },
    {
     "data": {
      "image/png": "[encoded data removed]",
      "text/plain": [
       "<Figure size 360x360 with 1 Axes>"
      ]
     },
     "metadata": {},
     "output_type": "display_data"
    }
   ],
   "source": [
    "plt.figure(figsize=(5,5))\n",
    "plt.bar(df_age_groups.index, df_age_groups['No_show_up_%'], width = 0.5, color= 'y')\n",
    "plt.title('Total percentage of patients who did not show up on their appointment date based on age groups')\n",
    "plt.xlabel('Age groups')\n",
    "plt.ylabel('Percentage')"
   ]
  },
  {
   "cell_type": "markdown",
   "metadata": {},
   "source": [
    "Number of patients in each group is roughly equal.but as we can see, more young adult between 19 to 37 years old intentionally or unintentionally miss the apointment date. on the other hand, old ones aged more than 55, pay more attention to these dates and around 15 percent of them miss the appointment."
   ]
  },
  {
   "cell_type": "markdown",
   "metadata": {},
   "source": [
    "### Do patients who have made an appointment more than once miss more appointment time or vice versa?"
   ]
  },
  {
   "cell_type": "markdown",
   "metadata": {},
   "source": [
    "when we digged more into the dataset, we found out that there are some patient id which had more than one appointment date.so, it seem to be worthy to see is there any relationship betwen these two group or not. therefore, we separate them into two groups and calculate which one missed more appointment."
   ]
  },
  {
   "cell_type": "code",
   "execution_count": 34,
   "metadata": {},
   "outputs": [],
   "source": [
    "#patients with more than one appointment date\n",
    "df_patient_count = df['PatientId'].value_counts().to_frame()\n",
    "df['more_than_one_visit'] = 0\n",
    "\n",
    "#loop to define each patient\n",
    "for index, row in df.iterrows():\n",
    "    \n",
    "    id_p = row['PatientId']\n",
    "    \n",
    "    id_count = df_patient_count.loc[id_p]\n",
    "    if int(id_count) > 1:\n",
    "        df.loc[index,'more_than_one_visit'] = 1\n",
    "   "
   ]
  },
  {
   "cell_type": "code",
   "execution_count": 53,
   "metadata": {},
   "outputs": [
    {
     "data": {
      "text/html": [
       "<div>\n",
       "<style scoped>\n",
       "    .dataframe tbody tr th:only-of-type {\n",
       "        vertical-align: middle;\n",
       "    }\n",
       "\n",
       "    .dataframe tbody tr th {\n",
       "        vertical-align: top;\n",
       "    }\n",
       "\n",
       "    .dataframe thead th {\n",
       "        text-align: right;\n",
       "    }\n",
       "</style>\n",
       "<table border=\"1\" class=\"dataframe\">\n",
       "  <thead>\n",
       "    <tr style=\"text-align: right;\">\n",
       "      <th></th>\n",
       "      <th>Total</th>\n",
       "      <th>Show_up</th>\n",
       "      <th>No_show_up</th>\n",
       "      <th>No_show_up_%</th>\n",
       "    </tr>\n",
       "    <tr>\n",
       "      <th>more_than_one_visit</th>\n",
       "      <th></th>\n",
       "      <th></th>\n",
       "      <th></th>\n",
       "      <th></th>\n",
       "    </tr>\n",
       "  </thead>\n",
       "  <tbody>\n",
       "    <tr>\n",
       "      <th>0</th>\n",
       "      <td>37920</td>\n",
       "      <td>30802</td>\n",
       "      <td>7118</td>\n",
       "      <td>0.187711</td>\n",
       "    </tr>\n",
       "    <tr>\n",
       "      <th>1</th>\n",
       "      <td>72607</td>\n",
       "      <td>57406</td>\n",
       "      <td>15201</td>\n",
       "      <td>0.209360</td>\n",
       "    </tr>\n",
       "  </tbody>\n",
       "</table>\n",
       "</div>"
      ],
      "text/plain": [
       "                     Total  Show_up  No_show_up  No_show_up_%\n",
       "more_than_one_visit                                          \n",
       "0                    37920    30802        7118      0.187711\n",
       "1                    72607    57406       15201      0.209360"
      ]
     },
     "execution_count": 53,
     "metadata": {},
     "output_type": "execute_result"
    }
   ],
   "source": [
    "df_more = no_show_up('more_than_one_visit')\n",
    "df_more"
   ]
  },
  {
   "cell_type": "code",
   "execution_count": 56,
   "metadata": {},
   "outputs": [
    {
     "data": {
      "text/plain": [
       "Text(0, 0.5, 'Percentage')"
      ]
     },
     "execution_count": 56,
     "metadata": {},
     "output_type": "execute_result"
    },
    {
     "data": {
      "image/png": "[encoded data removed]",
      "text/plain": [
       "<Figure size 360x360 with 1 Axes>"
      ]
     },
     "metadata": {},
     "output_type": "display_data"
    }
   ],
   "source": [
    "plt.figure(figsize=(5,5))\n",
    "plt.bar(df_more.index, df_more['No_show_up_%'], width = 0.5, color= 'm')\n",
    "plt.title('A comparison between patients who had one appointment throughout the dataset period and the ones who have more than one')\n",
    "plt.xlabel('had one appointment or more')\n",
    "plt.xticks([0,1],['1 appointment', 'more than one appointment'])\n",
    "plt.ylabel('Percentage')"
   ]
  },
  {
   "cell_type": "markdown",
   "metadata": {},
   "source": [
    "Both groups missed almost equal percentage of appointments.However, the figure for the ones who had more than one appointment was a little higher."
   ]
  },
  {
   "cell_type": "markdown",
   "metadata": {},
   "source": [
    "### can we find any relationship with the amount of time between appointment day and scheduleday and apperance on appointment date?"
   ]
  },
  {
   "cell_type": "markdown",
   "metadata": {},
   "source": [
    "when we look at the table, there are two datetime format columns.first one is the date when patients decided to visit a doctor (ScheduledDay) and the second one is the date when they reserved a day to come (AppointmentDay). There is a gap between these to date, ranging from hours to seasons. so, which time gap make more patients miss the appointment date?"
   ]
  },
  {
   "cell_type": "code",
   "execution_count": 36,
   "metadata": {},
   "outputs": [
    {
     "data": {
      "text/html": [
       "<div>\n",
       "<style scoped>\n",
       "    .dataframe tbody tr th:only-of-type {\n",
       "        vertical-align: middle;\n",
       "    }\n",
       "\n",
       "    .dataframe tbody tr th {\n",
       "        vertical-align: top;\n",
       "    }\n",
       "\n",
       "    .dataframe thead th {\n",
       "        text-align: right;\n",
       "    }\n",
       "</style>\n",
       "<table border=\"1\" class=\"dataframe\">\n",
       "  <thead>\n",
       "    <tr style=\"text-align: right;\">\n",
       "      <th></th>\n",
       "      <th>Total</th>\n",
       "      <th>Show_up</th>\n",
       "      <th>No_show_up</th>\n",
       "      <th>No_show_up_%</th>\n",
       "    </tr>\n",
       "    <tr>\n",
       "      <th>Difference</th>\n",
       "      <th></th>\n",
       "      <th></th>\n",
       "      <th></th>\n",
       "      <th></th>\n",
       "    </tr>\n",
       "  </thead>\n",
       "  <tbody>\n",
       "    <tr>\n",
       "      <th>0 days</th>\n",
       "      <td>38563</td>\n",
       "      <td>36771</td>\n",
       "      <td>1792</td>\n",
       "      <td>0.046469</td>\n",
       "    </tr>\n",
       "    <tr>\n",
       "      <th>1 days</th>\n",
       "      <td>5213</td>\n",
       "      <td>4100</td>\n",
       "      <td>1113</td>\n",
       "      <td>0.213505</td>\n",
       "    </tr>\n",
       "    <tr>\n",
       "      <th>2 days</th>\n",
       "      <td>6725</td>\n",
       "      <td>5123</td>\n",
       "      <td>1602</td>\n",
       "      <td>0.238216</td>\n",
       "    </tr>\n",
       "    <tr>\n",
       "      <th>3 days</th>\n",
       "      <td>2737</td>\n",
       "      <td>2093</td>\n",
       "      <td>644</td>\n",
       "      <td>0.235294</td>\n",
       "    </tr>\n",
       "    <tr>\n",
       "      <th>4 days</th>\n",
       "      <td>5290</td>\n",
       "      <td>4059</td>\n",
       "      <td>1231</td>\n",
       "      <td>0.232703</td>\n",
       "    </tr>\n",
       "  </tbody>\n",
       "</table>\n",
       "</div>"
      ],
      "text/plain": [
       "            Total  Show_up  No_show_up  No_show_up_%\n",
       "Difference                                          \n",
       "0 days      38563    36771        1792      0.046469\n",
       "1 days       5213     4100        1113      0.213505\n",
       "2 days       6725     5123        1602      0.238216\n",
       "3 days       2737     2093         644      0.235294\n",
       "4 days       5290     4059        1231      0.232703"
      ]
     },
     "execution_count": 36,
     "metadata": {},
     "output_type": "execute_result"
    }
   ],
   "source": [
    "df_difference = no_show_up('Difference')\n",
    "df_difference.head()"
   ]
  },
  {
   "cell_type": "code",
   "execution_count": 37,
   "metadata": {},
   "outputs": [
    {
     "data": {
      "text/plain": [
       "<matplotlib.axes._subplots.AxesSubplot at 0x1f4e24205f8>"
      ]
     },
     "execution_count": 37,
     "metadata": {},
     "output_type": "execute_result"
    },
    {
     "data": {
      "image/png": "[encoded data removed]",
      "text/plain": [
       "<Figure size 720x360 with 1 Axes>"
      ]
     },
     "metadata": {},
     "output_type": "display_data"
    }
   ],
   "source": [
    "plt.figure(figsize=(10,5))\n",
    "\n",
    "sns.lineplot(x= df_difference.reset_index().index, y= df_difference['No_show_up_%'], color=\"green\",linewidth=2, data = df_difference)"
   ]
  },
  {
   "cell_type": "markdown",
   "metadata": {},
   "source": [
    "without any doubt, when there is a gap less than 20 days, the more scheduled day and appointment day are closer to each other,the higher the chance that patients show up on the appointment date. there are some fluctuations after 20 days which is not entirely reliable, but we have gap times with no show up rate of 70 percent, which is absolutely odd."
   ]
  },
  {
   "cell_type": "markdown",
   "metadata": {},
   "source": [
    "### Can we predict which patients will show up on the appointment date?"
   ]
  },
  {
   "cell_type": "code",
   "execution_count": 38,
   "metadata": {},
   "outputs": [],
   "source": [
    "# change difference column format to integer\n",
    "df['Difference'] = df['Difference'].astype(str).str.slice(stop = 1)\n",
    "\n",
    "# clean some data\n",
    "df['Difference'] = df[df['Difference'] == '-'].replace('-', 1)\n",
    "df['Difference'] = df.loc[71533,'Difference'] = 6"
   ]
  },
  {
   "cell_type": "code",
   "execution_count": 39,
   "metadata": {},
   "outputs": [],
   "source": [
    "#define features and labels\n",
    "X = np.asarray(df[['Gender','Difference', 'Age', 'Scholarship','Hipertension','Diabetes','Alcoholism','Handicap','SMS_received']])\n",
    "y = np.asarray(df['No_show'])"
   ]
  },
  {
   "cell_type": "code",
   "execution_count": 40,
   "metadata": {},
   "outputs": [
    {
     "data": {
      "text/plain": [
       "array([['F', 6, 62, 0, 1, 0, 0, 0, 0],\n",
       "       ['M', 6, 56, 0, 0, 0, 0, 0, 0]], dtype=object)"
      ]
     },
     "execution_count": 40,
     "metadata": {},
     "output_type": "execute_result"
    }
   ],
   "source": [
    "X[0:2]"
   ]
  },
  {
   "cell_type": "code",
   "execution_count": 41,
   "metadata": {},
   "outputs": [
    {
     "data": {
      "text/plain": [
       "array([[0, 6, 62, 0, 1, 0, 0, 0, 0],\n",
       "       [1, 6, 56, 0, 0, 0, 0, 0, 0]], dtype=object)"
      ]
     },
     "execution_count": 41,
     "metadata": {},
     "output_type": "execute_result"
    }
   ],
   "source": [
    "# change Gender to binary format\n",
    "le_sex = preprocessing.LabelEncoder()\n",
    "le_sex.fit(['F','M'])\n",
    "X[:,0] = le_sex.transform(X[:,0])\n",
    "X[0:2]"
   ]
  },
  {
   "cell_type": "code",
   "execution_count": 42,
   "metadata": {},
   "outputs": [
    {
     "data": {
      "text/plain": [
       "array([[-0.73383659,  0.        ,  1.07793269, -0.33011206,  2.01737783,\n",
       "        -0.27826108, -0.1770676 , -0.14385825, -0.68761155],\n",
       "       [ 1.36270119,  0.        ,  0.81830578, -0.33011206, -0.49569297,\n",
       "        -0.27826108, -0.1770676 , -0.14385825, -0.68761155]])"
      ]
     },
     "execution_count": 42,
     "metadata": {},
     "output_type": "execute_result"
    }
   ],
   "source": [
    "#Standardize the array\n",
    "X = preprocessing.StandardScaler().fit(X).transform(X)\n",
    "X[0:2]"
   ]
  },
  {
   "cell_type": "code",
   "execution_count": 43,
   "metadata": {},
   "outputs": [
    {
     "name": "stdout",
     "output_type": "stream",
     "text": [
      "Train set: (88421, 9) (88421,)\n",
      "Test set: (22106, 9) (22106,)\n"
     ]
    }
   ],
   "source": [
    "# split the data into train and test \n",
    "X_train, X_test, y_train, y_test = train_test_split( X, y, test_size=0.2, random_state=4)\n",
    "print ('Train set:', X_train.shape,  y_train.shape)\n",
    "print ('Test set:', X_test.shape,  y_test.shape)"
   ]
  },
  {
   "cell_type": "code",
   "execution_count": 44,
   "metadata": {},
   "outputs": [
    {
     "name": "stderr",
     "output_type": "stream",
     "text": [
      "C:\\Users\\Sahand\\Anaconda3\\lib\\site-packages\\sklearn\\svm\\base.py:193: FutureWarning: The default value of gamma will change from 'auto' to 'scale' in version 0.22 to account better for unscaled features. Set gamma explicitly to 'auto' or 'scale' to avoid this warning.\n",
      "  \"avoid this warning.\", FutureWarning)\n"
     ]
    },
    {
     "data": {
      "text/plain": [
       "array(['No', 'No', 'No', 'No', 'No'], dtype=object)"
      ]
     },
     "execution_count": 44,
     "metadata": {},
     "output_type": "execute_result"
    }
   ],
   "source": [
    "#Train the data \n",
    "clf = svm.SVC(kernel='rbf')\n",
    "clf.fit(X_train, y_train)\n",
    "yhat = clf.predict(X_test)\n",
    "yhat [0:5]"
   ]
  },
  {
   "cell_type": "code",
   "execution_count": 45,
   "metadata": {},
   "outputs": [
    {
     "name": "stdout",
     "output_type": "stream",
     "text": [
      "F1 0.7091884314807266\n",
      "Jaccard 0.7978376911245816\n"
     ]
    },
    {
     "name": "stderr",
     "output_type": "stream",
     "text": [
      "C:\\Users\\Sahand\\Anaconda3\\lib\\site-packages\\sklearn\\metrics\\classification.py:635: DeprecationWarning: jaccard_similarity_score has been deprecated and replaced with jaccard_score. It will be removed in version 0.23. This implementation has surprising behavior for binary and multiclass classification tasks.\n",
      "  'and multiclass classification tasks.', DeprecationWarning)\n"
     ]
    }
   ],
   "source": [
    "#compute the accuracy with F1 and Jaccard index metrics\n",
    "print('F1',f1_score(y_test, yhat, average='weighted'))\n",
    "print('Jaccard', jaccard_similarity_score(y_test, yhat))"
   ]
  },
  {
   "cell_type": "markdown",
   "metadata": {},
   "source": [
    "<a id='conclusions'></a>\n",
    "## 4- Conclusions\n",
    "\n"
   ]
  },
  {
   "cell_type": "markdown",
   "metadata": {},
   "source": [
    "In this data analytic project, the sole aim was to find any correlation between variables and apperance on appointment date to answer the question \"What factors are important for us to know in order to predict if a patient will show up for their scheduled appointment\". At first we simply categorise table based on each viable feature to compare the results and find any correlation.\n",
    "\n",
    "With regard to neighbourhood, we have found the most and the least notorious neighborhoods where patients missed the appointment date. it can help us see whther geographical disparity have any impact or not.\n",
    "then the gender was scrutinized to see whether men or women tend to miss the appointment. although the total namuber of female patients was considerably higher than male ones, the total percentage of not showing up was equal in both groups,showing that gender did not play any important role on missing appointments.\n",
    "\n",
    "Now it is time so see whether the facilities provided by government (scholarship) and healthcare institutes (sms_received) were helpful or not? interestingly, patients without these facilities show up more. even the ones who received a notification via sms and had scholarship missed more appointment date. this trend need to be examined deeper to understand why this is the trend.\n",
    "then we decide to group patients who have inabilities such as handicap or some health issues such as diabetes to see are these groups tend to appear on scheduled appointment or not. as it could be predicted, patients with inability tend to appear more on appointment date than healthy ones. the more problem they have, the more keen they become to be there on time!\n",
    "\n",
    "In this dataset, patient's age ranged from infant period to more than 100 years old (we have a 115 years old patient). so, it was hard to find any pattern based on each one.the remedy was to categorise them into 4 groups. finally, it can be seen that young adults tend to miss the appointment more than any other groups. old ones find it more risky and do their best to visit their doctors.\n",
    "in more advanced analysis, we found out that there were patients who had more than one appointment date throughout the period. so, we have found them, separate them and compare them with patients who have made an appointment once to see whether the ones experienced an appointment are more lazy to miss a date or not. there were some differences between them but not meaningful enough.\n",
    "And finally, we decided to find how many days are between scheduled date and appointment date. this can show us whether distances between these two dates can have a meaningful effect or not. for the first 2o days we could find a relationship. it seems that the more these 2 dates are close to each other, there is a higher chance patients will show up on the scheduled appointment.\n",
    "\n",
    "In machine learning part, we did our best to train an algorithm to predict future No-show appointment,when we give information of patients. in this way we can predict which patients will show up with a rate of 70 precent. that is not a perfect model, but with the help of grid search and ridge regression, we can improve our model to get better results. but this was out of scope of this project.so, we only run a simple mode of support vector machine (SVM) algorithm to show the possibility of the model.\n",
    "\n",
    "\n"
   ]
  },
  {
   "cell_type": "markdown",
   "metadata": {},
   "source": [
    "# Limitations"
   ]
  },
  {
   "cell_type": "markdown",
   "metadata": {},
   "source": [
    "in this project, we could dive deeper in each feature and compare them with other hypothetical situations. for example, we have categorised patients who have made an appointment more than once. now we can see age group in this category and at the same time, compare the Difference feature defined above. but it would be out of scope of this project.so, we have just analysed features in 1 level.\n",
    "\n"
   ]
  },
  {
   "cell_type": "code",
   "execution_count": null,
   "metadata": {},
   "outputs": [],
   "source": []
  }
 ],
 "metadata": {
  "kernelspec": {
   "display_name": "Python 3",
   "language": "python",
   "name": "python3"
  },
  "language_info": {
   "codemirror_mode": {
    "name": "ipython",
    "version": 3
   },
   "file_extension": ".py",
   "mimetype": "text/x-python",
   "name": "python",
   "nbconvert_exporter": "python",
   "pygments_lexer": "ipython3",
   "version": "3.7.3"
  }
 },
 "nbformat": 4,
 "nbformat_minor": 2
}
